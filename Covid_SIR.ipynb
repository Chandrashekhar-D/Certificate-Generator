{
  "nbformat": 4,
  "nbformat_minor": 0,
  "metadata": {
    "colab": {
      "name": "Covid-SIR.ipynb",
      "provenance": [],
      "collapsed_sections": [],
      "authorship_tag": "ABX9TyPabH6WXOk8pziGv4dW+VXH",
      "include_colab_link": true
    },
    "kernelspec": {
      "name": "python3",
      "display_name": "Python 3"
    },
    "language_info": {
      "name": "python"
    }
  },
  "cells": [
    {
      "cell_type": "markdown",
      "metadata": {
        "id": "view-in-github",
        "colab_type": "text"
      },
      "source": [
        "<a href=\"https://colab.research.google.com/github/Chandrashekhar-D/Certificate-Generator/blob/main/Covid_SIR.ipynb\" target=\"_parent\"><img src=\"https://colab.research.google.com/assets/colab-badge.svg\" alt=\"Open In Colab\"/></a>"
      ]
    },
    {
      "cell_type": "code",
      "metadata": {
        "colab": {
          "base_uri": "https://localhost:8080/",
          "height": 17
        },
        "id": "tvXPxmPCsEe5",
        "outputId": "a42dd200-9b5d-4723-e538-7ea822437928"
      },
      "source": [
        "import numpy as np # linear algebra\n",
        "import pandas as pd # data processing, CSV file I/O (e.g. pd.read_csv)\n",
        "import matplotlib.pyplot as plt\n",
        "from scipy.integrate import solve_ivp\n",
        "from scipy.optimize import minimize\n",
        "from scipy.integrate import odeint\n",
        "import plotly.express as px\n",
        "import plotly.offline as py\n",
        "py.init_notebook_mode(connected=True)\n",
        "import folium\n",
        "from scipy.integrate import odeint\n",
        "import seaborn as sns\n",
        "\n",
        "import plotly.graph_objects as go\n",
        "import plotly.io as pio\n",
        "pio.renderers.default = 'colab'"
      ],
      "execution_count": null,
      "outputs": [
        {
          "output_type": "display_data",
          "data": {
            "text/html": [
              "        <script type=\"text/javascript\">\n",
              "        window.PlotlyConfig = {MathJaxConfig: 'local'};\n",
              "        if (window.MathJax) {MathJax.Hub.Config({SVG: {font: \"STIX-Web\"}});}\n",
              "        if (typeof require !== 'undefined') {\n",
              "        require.undef(\"plotly\");\n",
              "        requirejs.config({\n",
              "            paths: {\n",
              "                'plotly': ['https://cdn.plot.ly/plotly-latest.min']\n",
              "            }\n",
              "        });\n",
              "        require(['plotly'], function(Plotly) {\n",
              "            window._Plotly = Plotly;\n",
              "        });\n",
              "        }\n",
              "        </script>\n",
              "        "
            ]
          },
          "metadata": {}
        }
      ]
    },
    {
      "cell_type": "code",
      "metadata": {
        "id": "vRvdAm6ICqDc"
      },
      "source": [
        ""
      ],
      "execution_count": null,
      "outputs": []
    },
    {
      "cell_type": "code",
      "metadata": {
        "colab": {
          "base_uri": "https://localhost:8080/"
        },
        "id": "LuEqWGK0tC6J",
        "outputId": "a447121e-bd5d-4a2f-f6b8-3d3edf6a0674"
      },
      "source": [
        "from google.colab import drive\n",
        "drive.mount('/content/gdrive')"
      ],
      "execution_count": null,
      "outputs": [
        {
          "output_type": "stream",
          "name": "stdout",
          "text": [
            "Mounted at /content/gdrive\n"
          ]
        }
      ]
    },
    {
      "cell_type": "code",
      "metadata": {
        "id": "f45-1F7DsDqR"
      },
      "source": [
        "df_india= pd.read_csv('/content/gdrive/MyDrive/covid-cases-india/Covid cases in India.csv')\n",
        "dbd_tc_india = pd.read_excel('/content/gdrive/MyDrive/covid-complete/COVID19 India Complete Dataset May 2020.xlsx', sheet_name='Daily Cases Time-Series')"
      ],
      "execution_count": null,
      "outputs": []
    },
    {
      "cell_type": "code",
      "metadata": {
        "colab": {
          "base_uri": "https://localhost:8080/",
          "height": 112
        },
        "id": "2YL2XJUrtDio",
        "outputId": "a0974a81-ef72-4eb1-cc93-7d2726843bb6"
      },
      "source": [
        "dbd_tc_india.head(2)"
      ],
      "execution_count": null,
      "outputs": [
        {
          "output_type": "execute_result",
          "data": {
            "text/html": [
              "<div>\n",
              "<style scoped>\n",
              "    .dataframe tbody tr th:only-of-type {\n",
              "        vertical-align: middle;\n",
              "    }\n",
              "\n",
              "    .dataframe tbody tr th {\n",
              "        vertical-align: top;\n",
              "    }\n",
              "\n",
              "    .dataframe thead th {\n",
              "        text-align: right;\n",
              "    }\n",
              "</style>\n",
              "<table border=\"1\" class=\"dataframe\">\n",
              "  <thead>\n",
              "    <tr style=\"text-align: right;\">\n",
              "      <th></th>\n",
              "      <th>Date</th>\n",
              "      <th>Daily Confirmed</th>\n",
              "      <th>Total Confirmed</th>\n",
              "      <th>Daily Recovered</th>\n",
              "      <th>Total Recovered</th>\n",
              "      <th>Daily Deceased</th>\n",
              "      <th>Total Deceased</th>\n",
              "    </tr>\n",
              "  </thead>\n",
              "  <tbody>\n",
              "    <tr>\n",
              "      <th>0</th>\n",
              "      <td>2020-01-30</td>\n",
              "      <td>1</td>\n",
              "      <td>1</td>\n",
              "      <td>0</td>\n",
              "      <td>0</td>\n",
              "      <td>0</td>\n",
              "      <td>0</td>\n",
              "    </tr>\n",
              "    <tr>\n",
              "      <th>1</th>\n",
              "      <td>2020-01-31</td>\n",
              "      <td>0</td>\n",
              "      <td>1</td>\n",
              "      <td>0</td>\n",
              "      <td>0</td>\n",
              "      <td>0</td>\n",
              "      <td>0</td>\n",
              "    </tr>\n",
              "  </tbody>\n",
              "</table>\n",
              "</div>"
            ],
            "text/plain": [
              "        Date  Daily Confirmed  ...  Daily Deceased  Total Deceased\n",
              "0 2020-01-30                1  ...               0               0\n",
              "1 2020-01-31                0  ...               0               0\n",
              "\n",
              "[2 rows x 7 columns]"
            ]
          },
          "metadata": {},
          "execution_count": 6
        }
      ]
    },
    {
      "cell_type": "code",
      "metadata": {
        "colab": {
          "base_uri": "https://localhost:8080/",
          "height": 517
        },
        "id": "KHpUb5b5z6TS",
        "outputId": "35b139a1-bcfa-4f9b-bfd1-b7e0e734476e"
      },
      "source": [
        "db_india = pd.DataFrame(dbd_tc_india.groupby(['Date'])['Total Confirmed'].sum()).reset_index()\n",
        "\n",
        "fig1 = go.Figure()\n",
        "fig1.add_trace(go.Scatter(x=db_india['Date'], y=db_india['Total Confirmed']))\n",
        "fig1.layout.update(title_text='COVID-19 Growth in India',xaxis_showgrid=False, yaxis_showgrid=False, width=800,\n",
        "        height=500,font=dict(\n",
        "         family=\"Courier New, monospace\",\n",
        "        size=12,\n",
        "        color=\"white\"\n",
        "    ))\n",
        "fig1.layout.plot_bgcolor = 'Black'\n",
        "fig1.layout.paper_bgcolor = 'Black'\n",
        "fig1.show()"
      ],
      "execution_count": null,
      "outputs": [
        {
          "output_type": "display_data",
          "data": {
            "text/html": [
              "<html>\n",
              "<head><meta charset=\"utf-8\" /></head>\n",
              "<body>\n",
              "    <div>\n",
              "            <script src=\"https://cdnjs.cloudflare.com/ajax/libs/mathjax/2.7.5/MathJax.js?config=TeX-AMS-MML_SVG\"></script><script type=\"text/javascript\">if (window.MathJax) {MathJax.Hub.Config({SVG: {font: \"STIX-Web\"}});}</script>\n",
              "                <script type=\"text/javascript\">window.PlotlyConfig = {MathJaxConfig: 'local'};</script>\n",
              "        <script src=\"https://cdn.plot.ly/plotly-latest.min.js\"></script>    \n",
              "            <div id=\"f441f05d-88bb-4f0e-8a7f-f71d9d2951cc\" class=\"plotly-graph-div\" style=\"height:500px; width:800px;\"></div>\n",
              "            <script type=\"text/javascript\">\n",
              "                \n",
              "                    window.PLOTLYENV=window.PLOTLYENV || {};\n",
              "                    \n",
              "                if (document.getElementById(\"f441f05d-88bb-4f0e-8a7f-f71d9d2951cc\")) {\n",
              "                    Plotly.newPlot(\n",
              "                        'f441f05d-88bb-4f0e-8a7f-f71d9d2951cc',\n",
              "                        [{\"type\": \"scatter\", \"x\": [\"2020-01-30T00:00:00\", \"2020-01-31T00:00:00\", \"2020-02-01T00:00:00\", \"2020-02-02T00:00:00\", \"2020-02-03T00:00:00\", \"2020-02-04T00:00:00\", \"2020-02-05T00:00:00\", \"2020-02-06T00:00:00\", \"2020-02-07T00:00:00\", \"2020-02-08T00:00:00\", \"2020-02-09T00:00:00\", \"2020-02-10T00:00:00\", \"2020-02-11T00:00:00\", \"2020-02-12T00:00:00\", \"2020-02-13T00:00:00\", \"2020-02-14T00:00:00\", \"2020-02-15T00:00:00\", \"2020-02-16T00:00:00\", \"2020-02-17T00:00:00\", \"2020-02-18T00:00:00\", \"2020-02-19T00:00:00\", \"2020-02-20T00:00:00\", \"2020-02-21T00:00:00\", \"2020-02-22T00:00:00\", \"2020-02-23T00:00:00\", \"2020-02-24T00:00:00\", \"2020-02-25T00:00:00\", \"2020-02-26T00:00:00\", \"2020-02-27T00:00:00\", \"2020-02-28T00:00:00\", \"2020-02-29T00:00:00\", \"2020-03-01T00:00:00\", \"2020-03-02T00:00:00\", \"2020-03-03T00:00:00\", \"2020-03-04T00:00:00\", \"2020-03-05T00:00:00\", \"2020-03-06T00:00:00\", \"2020-03-07T00:00:00\", \"2020-03-08T00:00:00\", \"2020-03-09T00:00:00\", \"2020-03-10T00:00:00\", \"2020-03-11T00:00:00\", \"2020-03-12T00:00:00\", \"2020-03-13T00:00:00\", \"2020-03-14T00:00:00\", \"2020-03-15T00:00:00\", \"2020-03-16T00:00:00\", \"2020-03-17T00:00:00\", \"2020-03-18T00:00:00\", \"2020-03-19T00:00:00\", \"2020-03-20T00:00:00\", \"2020-03-21T00:00:00\", \"2020-03-22T00:00:00\", \"2020-03-23T00:00:00\", \"2020-03-24T00:00:00\", \"2020-03-25T00:00:00\", \"2020-03-26T00:00:00\", \"2020-03-27T00:00:00\", \"2020-03-28T00:00:00\", \"2020-03-29T00:00:00\", \"2020-03-30T00:00:00\", \"2020-03-31T00:00:00\", \"2020-04-01T00:00:00\", \"2020-04-02T00:00:00\", \"2020-04-03T00:00:00\", \"2020-04-04T00:00:00\", \"2020-04-05T00:00:00\", \"2020-04-06T00:00:00\", \"2020-04-07T00:00:00\", \"2020-04-08T00:00:00\", \"2020-04-09T00:00:00\", \"2020-04-10T00:00:00\", \"2020-04-11T00:00:00\", \"2020-04-12T00:00:00\", \"2020-04-13T00:00:00\", \"2020-04-14T00:00:00\", \"2020-04-15T00:00:00\", \"2020-04-16T00:00:00\", \"2020-04-17T00:00:00\", \"2020-04-18T00:00:00\", \"2020-04-19T00:00:00\", \"2020-04-20T00:00:00\", \"2020-04-21T00:00:00\", \"2020-04-22T00:00:00\", \"2020-04-23T00:00:00\", \"2020-04-24T00:00:00\", \"2020-04-25T00:00:00\", \"2020-04-26T00:00:00\", \"2020-04-27T00:00:00\", \"2020-04-28T00:00:00\", \"2020-04-29T00:00:00\", \"2020-04-30T00:00:00\", \"2020-05-01T00:00:00\", \"2020-05-02T00:00:00\", \"2020-05-03T00:00:00\", \"2020-05-04T00:00:00\", \"2020-05-05T00:00:00\"], \"y\": [1, 1, 1, 2, 3, 3, 3, 3, 3, 3, 3, 3, 3, 3, 3, 3, 3, 3, 3, 3, 3, 3, 3, 3, 3, 3, 3, 3, 3, 3, 3, 3, 5, 6, 28, 30, 31, 34, 39, 48, 63, 71, 81, 91, 102, 112, 126, 146, 171, 198, 256, 334, 403, 497, 571, 657, 730, 883, 1019, 1139, 1326, 1635, 2059, 2545, 3105, 3684, 4293, 4777, 5350, 5915, 6728, 7599, 8453, 9211, 10454, 11485, 12371, 13432, 14354, 15725, 17305, 18544, 20081, 21373, 23040, 24448, 26283, 27890, 29458, 31360, 33065, 34866, 37262, 39826, 42778, 46434, 49400]}],\n",
              "                        {\"font\": {\"color\": \"white\", \"family\": \"Courier New, monospace\", \"size\": 12}, \"height\": 500, \"paper_bgcolor\": \"Black\", \"plot_bgcolor\": \"Black\", \"template\": {\"data\": {\"bar\": [{\"error_x\": {\"color\": \"#2a3f5f\"}, \"error_y\": {\"color\": \"#2a3f5f\"}, \"marker\": {\"line\": {\"color\": \"#E5ECF6\", \"width\": 0.5}}, \"type\": \"bar\"}], \"barpolar\": [{\"marker\": {\"line\": {\"color\": \"#E5ECF6\", \"width\": 0.5}}, \"type\": \"barpolar\"}], \"carpet\": [{\"aaxis\": {\"endlinecolor\": \"#2a3f5f\", \"gridcolor\": \"white\", \"linecolor\": \"white\", \"minorgridcolor\": \"white\", \"startlinecolor\": \"#2a3f5f\"}, \"baxis\": {\"endlinecolor\": \"#2a3f5f\", \"gridcolor\": \"white\", \"linecolor\": \"white\", \"minorgridcolor\": \"white\", \"startlinecolor\": \"#2a3f5f\"}, \"type\": \"carpet\"}], \"choropleth\": [{\"colorbar\": {\"outlinewidth\": 0, \"ticks\": \"\"}, \"type\": \"choropleth\"}], \"contour\": [{\"colorbar\": {\"outlinewidth\": 0, \"ticks\": \"\"}, \"colorscale\": [[0.0, \"#0d0887\"], [0.1111111111111111, \"#46039f\"], [0.2222222222222222, \"#7201a8\"], [0.3333333333333333, \"#9c179e\"], [0.4444444444444444, \"#bd3786\"], [0.5555555555555556, \"#d8576b\"], [0.6666666666666666, \"#ed7953\"], [0.7777777777777778, \"#fb9f3a\"], [0.8888888888888888, \"#fdca26\"], [1.0, \"#f0f921\"]], \"type\": \"contour\"}], \"contourcarpet\": [{\"colorbar\": {\"outlinewidth\": 0, \"ticks\": \"\"}, \"type\": \"contourcarpet\"}], \"heatmap\": [{\"colorbar\": {\"outlinewidth\": 0, \"ticks\": \"\"}, \"colorscale\": [[0.0, \"#0d0887\"], [0.1111111111111111, \"#46039f\"], [0.2222222222222222, \"#7201a8\"], [0.3333333333333333, \"#9c179e\"], [0.4444444444444444, \"#bd3786\"], [0.5555555555555556, \"#d8576b\"], [0.6666666666666666, \"#ed7953\"], [0.7777777777777778, \"#fb9f3a\"], [0.8888888888888888, \"#fdca26\"], [1.0, \"#f0f921\"]], \"type\": \"heatmap\"}], \"heatmapgl\": [{\"colorbar\": {\"outlinewidth\": 0, \"ticks\": \"\"}, \"colorscale\": [[0.0, \"#0d0887\"], [0.1111111111111111, \"#46039f\"], [0.2222222222222222, \"#7201a8\"], [0.3333333333333333, \"#9c179e\"], [0.4444444444444444, \"#bd3786\"], [0.5555555555555556, \"#d8576b\"], [0.6666666666666666, \"#ed7953\"], [0.7777777777777778, \"#fb9f3a\"], [0.8888888888888888, \"#fdca26\"], [1.0, \"#f0f921\"]], \"type\": \"heatmapgl\"}], \"histogram\": [{\"marker\": {\"colorbar\": {\"outlinewidth\": 0, \"ticks\": \"\"}}, \"type\": \"histogram\"}], \"histogram2d\": [{\"colorbar\": {\"outlinewidth\": 0, \"ticks\": \"\"}, \"colorscale\": [[0.0, \"#0d0887\"], [0.1111111111111111, \"#46039f\"], [0.2222222222222222, \"#7201a8\"], [0.3333333333333333, \"#9c179e\"], [0.4444444444444444, \"#bd3786\"], [0.5555555555555556, \"#d8576b\"], [0.6666666666666666, \"#ed7953\"], [0.7777777777777778, \"#fb9f3a\"], [0.8888888888888888, \"#fdca26\"], [1.0, \"#f0f921\"]], \"type\": \"histogram2d\"}], \"histogram2dcontour\": [{\"colorbar\": {\"outlinewidth\": 0, \"ticks\": \"\"}, \"colorscale\": [[0.0, \"#0d0887\"], [0.1111111111111111, \"#46039f\"], [0.2222222222222222, \"#7201a8\"], [0.3333333333333333, \"#9c179e\"], [0.4444444444444444, \"#bd3786\"], [0.5555555555555556, \"#d8576b\"], [0.6666666666666666, \"#ed7953\"], [0.7777777777777778, \"#fb9f3a\"], [0.8888888888888888, \"#fdca26\"], [1.0, \"#f0f921\"]], \"type\": \"histogram2dcontour\"}], \"mesh3d\": [{\"colorbar\": {\"outlinewidth\": 0, \"ticks\": \"\"}, \"type\": \"mesh3d\"}], \"parcoords\": [{\"line\": {\"colorbar\": {\"outlinewidth\": 0, \"ticks\": \"\"}}, \"type\": \"parcoords\"}], \"pie\": [{\"automargin\": true, \"type\": \"pie\"}], \"scatter\": [{\"marker\": {\"colorbar\": {\"outlinewidth\": 0, \"ticks\": \"\"}}, \"type\": \"scatter\"}], \"scatter3d\": [{\"line\": {\"colorbar\": {\"outlinewidth\": 0, \"ticks\": \"\"}}, \"marker\": {\"colorbar\": {\"outlinewidth\": 0, \"ticks\": \"\"}}, \"type\": \"scatter3d\"}], \"scattercarpet\": [{\"marker\": {\"colorbar\": {\"outlinewidth\": 0, \"ticks\": \"\"}}, \"type\": \"scattercarpet\"}], \"scattergeo\": [{\"marker\": {\"colorbar\": {\"outlinewidth\": 0, \"ticks\": \"\"}}, \"type\": \"scattergeo\"}], \"scattergl\": [{\"marker\": {\"colorbar\": {\"outlinewidth\": 0, \"ticks\": \"\"}}, \"type\": \"scattergl\"}], \"scattermapbox\": [{\"marker\": {\"colorbar\": {\"outlinewidth\": 0, \"ticks\": \"\"}}, \"type\": \"scattermapbox\"}], \"scatterpolar\": [{\"marker\": {\"colorbar\": {\"outlinewidth\": 0, \"ticks\": \"\"}}, \"type\": \"scatterpolar\"}], \"scatterpolargl\": [{\"marker\": {\"colorbar\": {\"outlinewidth\": 0, \"ticks\": \"\"}}, \"type\": \"scatterpolargl\"}], \"scatterternary\": [{\"marker\": {\"colorbar\": {\"outlinewidth\": 0, \"ticks\": \"\"}}, \"type\": \"scatterternary\"}], \"surface\": [{\"colorbar\": {\"outlinewidth\": 0, \"ticks\": \"\"}, \"colorscale\": [[0.0, \"#0d0887\"], [0.1111111111111111, \"#46039f\"], [0.2222222222222222, \"#7201a8\"], [0.3333333333333333, \"#9c179e\"], [0.4444444444444444, \"#bd3786\"], [0.5555555555555556, \"#d8576b\"], [0.6666666666666666, \"#ed7953\"], [0.7777777777777778, \"#fb9f3a\"], [0.8888888888888888, \"#fdca26\"], [1.0, \"#f0f921\"]], \"type\": \"surface\"}], \"table\": [{\"cells\": {\"fill\": {\"color\": \"#EBF0F8\"}, \"line\": {\"color\": \"white\"}}, \"header\": {\"fill\": {\"color\": \"#C8D4E3\"}, \"line\": {\"color\": \"white\"}}, \"type\": \"table\"}]}, \"layout\": {\"annotationdefaults\": {\"arrowcolor\": \"#2a3f5f\", \"arrowhead\": 0, \"arrowwidth\": 1}, \"coloraxis\": {\"colorbar\": {\"outlinewidth\": 0, \"ticks\": \"\"}}, \"colorscale\": {\"diverging\": [[0, \"#8e0152\"], [0.1, \"#c51b7d\"], [0.2, \"#de77ae\"], [0.3, \"#f1b6da\"], [0.4, \"#fde0ef\"], [0.5, \"#f7f7f7\"], [0.6, \"#e6f5d0\"], [0.7, \"#b8e186\"], [0.8, \"#7fbc41\"], [0.9, \"#4d9221\"], [1, \"#276419\"]], \"sequential\": [[0.0, \"#0d0887\"], [0.1111111111111111, \"#46039f\"], [0.2222222222222222, \"#7201a8\"], [0.3333333333333333, \"#9c179e\"], [0.4444444444444444, \"#bd3786\"], [0.5555555555555556, \"#d8576b\"], [0.6666666666666666, \"#ed7953\"], [0.7777777777777778, \"#fb9f3a\"], [0.8888888888888888, \"#fdca26\"], [1.0, \"#f0f921\"]], \"sequentialminus\": [[0.0, \"#0d0887\"], [0.1111111111111111, \"#46039f\"], [0.2222222222222222, \"#7201a8\"], [0.3333333333333333, \"#9c179e\"], [0.4444444444444444, \"#bd3786\"], [0.5555555555555556, \"#d8576b\"], [0.6666666666666666, \"#ed7953\"], [0.7777777777777778, \"#fb9f3a\"], [0.8888888888888888, \"#fdca26\"], [1.0, \"#f0f921\"]]}, \"colorway\": [\"#636efa\", \"#EF553B\", \"#00cc96\", \"#ab63fa\", \"#FFA15A\", \"#19d3f3\", \"#FF6692\", \"#B6E880\", \"#FF97FF\", \"#FECB52\"], \"font\": {\"color\": \"#2a3f5f\"}, \"geo\": {\"bgcolor\": \"white\", \"lakecolor\": \"white\", \"landcolor\": \"#E5ECF6\", \"showlakes\": true, \"showland\": true, \"subunitcolor\": \"white\"}, \"hoverlabel\": {\"align\": \"left\"}, \"hovermode\": \"closest\", \"mapbox\": {\"style\": \"light\"}, \"paper_bgcolor\": \"white\", \"plot_bgcolor\": \"#E5ECF6\", \"polar\": {\"angularaxis\": {\"gridcolor\": \"white\", \"linecolor\": \"white\", \"ticks\": \"\"}, \"bgcolor\": \"#E5ECF6\", \"radialaxis\": {\"gridcolor\": \"white\", \"linecolor\": \"white\", \"ticks\": \"\"}}, \"scene\": {\"xaxis\": {\"backgroundcolor\": \"#E5ECF6\", \"gridcolor\": \"white\", \"gridwidth\": 2, \"linecolor\": \"white\", \"showbackground\": true, \"ticks\": \"\", \"zerolinecolor\": \"white\"}, \"yaxis\": {\"backgroundcolor\": \"#E5ECF6\", \"gridcolor\": \"white\", \"gridwidth\": 2, \"linecolor\": \"white\", \"showbackground\": true, \"ticks\": \"\", \"zerolinecolor\": \"white\"}, \"zaxis\": {\"backgroundcolor\": \"#E5ECF6\", \"gridcolor\": \"white\", \"gridwidth\": 2, \"linecolor\": \"white\", \"showbackground\": true, \"ticks\": \"\", \"zerolinecolor\": \"white\"}}, \"shapedefaults\": {\"line\": {\"color\": \"#2a3f5f\"}}, \"ternary\": {\"aaxis\": {\"gridcolor\": \"white\", \"linecolor\": \"white\", \"ticks\": \"\"}, \"baxis\": {\"gridcolor\": \"white\", \"linecolor\": \"white\", \"ticks\": \"\"}, \"bgcolor\": \"#E5ECF6\", \"caxis\": {\"gridcolor\": \"white\", \"linecolor\": \"white\", \"ticks\": \"\"}}, \"title\": {\"x\": 0.05}, \"xaxis\": {\"automargin\": true, \"gridcolor\": \"white\", \"linecolor\": \"white\", \"ticks\": \"\", \"title\": {\"standoff\": 15}, \"zerolinecolor\": \"white\", \"zerolinewidth\": 2}, \"yaxis\": {\"automargin\": true, \"gridcolor\": \"white\", \"linecolor\": \"white\", \"ticks\": \"\", \"title\": {\"standoff\": 15}, \"zerolinecolor\": \"white\", \"zerolinewidth\": 2}}}, \"title\": {\"text\": \"COVID-19 Growth in India\"}, \"width\": 800, \"xaxis\": {\"showgrid\": false}, \"yaxis\": {\"showgrid\": false}},\n",
              "                        {\"responsive\": true}\n",
              "                    ).then(function(){\n",
              "                            \n",
              "var gd = document.getElementById('f441f05d-88bb-4f0e-8a7f-f71d9d2951cc');\n",
              "var x = new MutationObserver(function (mutations, observer) {{\n",
              "        var display = window.getComputedStyle(gd).display;\n",
              "        if (!display || display === 'none') {{\n",
              "            console.log([gd, 'removed!']);\n",
              "            Plotly.purge(gd);\n",
              "            observer.disconnect();\n",
              "        }}\n",
              "}});\n",
              "\n",
              "// Listen for the removal of the full notebook cells\n",
              "var notebookContainer = gd.closest('#notebook-container');\n",
              "if (notebookContainer) {{\n",
              "    x.observe(notebookContainer, {childList: true});\n",
              "}}\n",
              "\n",
              "// Listen for the clearing of the current output cell\n",
              "var outputEl = gd.closest('.output');\n",
              "if (outputEl) {{\n",
              "    x.observe(outputEl, {childList: true});\n",
              "}}\n",
              "\n",
              "                        })\n",
              "                };\n",
              "                \n",
              "            </script>\n",
              "        </div>\n",
              "</body>\n",
              "</html>"
            ]
          },
          "metadata": {}
        }
      ]
    },
    {
      "cell_type": "code",
      "metadata": {
        "colab": {
          "base_uri": "https://localhost:8080/",
          "height": 164
        },
        "id": "-q0i2ahG0KpF",
        "outputId": "f3455157-c604-48cb-d56e-ebab76d32e66"
      },
      "source": [
        "db_state_india = pd.read_excel('/content/gdrive/MyDrive/covid-complete/COVID19 India Complete Dataset May 2020.xlsx', sheet_name='State-Wise Data')\n",
        "db_state_india = db_state_india[db_state_india['State']!='Total']\n",
        "db_state_india.head(2)"
      ],
      "execution_count": null,
      "outputs": [
        {
          "output_type": "execute_result",
          "data": {
            "text/html": [
              "<div>\n",
              "<style scoped>\n",
              "    .dataframe tbody tr th:only-of-type {\n",
              "        vertical-align: middle;\n",
              "    }\n",
              "\n",
              "    .dataframe tbody tr th {\n",
              "        vertical-align: top;\n",
              "    }\n",
              "\n",
              "    .dataframe thead th {\n",
              "        text-align: right;\n",
              "    }\n",
              "</style>\n",
              "<table border=\"1\" class=\"dataframe\">\n",
              "  <thead>\n",
              "    <tr style=\"text-align: right;\">\n",
              "      <th></th>\n",
              "      <th>State</th>\n",
              "      <th>Confirmed</th>\n",
              "      <th>Recovered</th>\n",
              "      <th>Deaths</th>\n",
              "      <th>Active</th>\n",
              "      <th>Last_Updated_Time</th>\n",
              "      <th>State_code</th>\n",
              "      <th>Delta_Confirmed</th>\n",
              "      <th>Delta_Recovered</th>\n",
              "      <th>Delta_Deaths</th>\n",
              "      <th>State_Notes</th>\n",
              "    </tr>\n",
              "  </thead>\n",
              "  <tbody>\n",
              "    <tr>\n",
              "      <th>1</th>\n",
              "      <td>Maharashtra</td>\n",
              "      <td>15525</td>\n",
              "      <td>2819</td>\n",
              "      <td>617</td>\n",
              "      <td>12089</td>\n",
              "      <td>43956.953310</td>\n",
              "      <td>MH</td>\n",
              "      <td>984</td>\n",
              "      <td>354</td>\n",
              "      <td>34</td>\n",
              "      <td>[04-May]&lt;br&gt;\\n- Total numbers are updated to t...</td>\n",
              "    </tr>\n",
              "    <tr>\n",
              "      <th>2</th>\n",
              "      <td>Gujarat</td>\n",
              "      <td>6245</td>\n",
              "      <td>1381</td>\n",
              "      <td>368</td>\n",
              "      <td>4496</td>\n",
              "      <td>43956.876921</td>\n",
              "      <td>GJ</td>\n",
              "      <td>441</td>\n",
              "      <td>186</td>\n",
              "      <td>49</td>\n",
              "      <td>NaN</td>\n",
              "    </tr>\n",
              "  </tbody>\n",
              "</table>\n",
              "</div>"
            ],
            "text/plain": [
              "         State  ...                                        State_Notes\n",
              "1  Maharashtra  ...  [04-May]<br>\\n- Total numbers are updated to t...\n",
              "2      Gujarat  ...                                                NaN\n",
              "\n",
              "[2 rows x 11 columns]"
            ]
          },
          "metadata": {},
          "execution_count": 8
        }
      ]
    },
    {
      "cell_type": "code",
      "metadata": {
        "colab": {
          "base_uri": "https://localhost:8080/",
          "height": 817
        },
        "id": "sUiJCIM-18dj",
        "outputId": "5744363d-985a-44c5-f4f2-0e122e2ce0a0"
      },
      "source": [
        "fig = px.bar(db_state_india.sort_values('Confirmed', ascending=False).sort_values('Confirmed', ascending=True),\n",
        "             x=\"Confirmed\", y=\"State\", \n",
        "             title='Total Confirmed Cases', \n",
        "             text='Confirmed', \n",
        "             orientation='h', \n",
        "             width=800, height=800, range_x = [0, max(db_state_india['Confirmed'])])\n",
        "fig.update_traces(marker_color='#670404', opacity=0.8, textposition='inside')\n",
        "\n",
        "fig.update_layout(plot_bgcolor='#CDCCA7')\n",
        "fig.show()"
      ],
      "execution_count": null,
      "outputs": [
        {
          "output_type": "display_data",
          "data": {
            "text/html": [
              "<html>\n",
              "<head><meta charset=\"utf-8\" /></head>\n",
              "<body>\n",
              "    <div>\n",
              "            <script src=\"https://cdnjs.cloudflare.com/ajax/libs/mathjax/2.7.5/MathJax.js?config=TeX-AMS-MML_SVG\"></script><script type=\"text/javascript\">if (window.MathJax) {MathJax.Hub.Config({SVG: {font: \"STIX-Web\"}});}</script>\n",
              "                <script type=\"text/javascript\">window.PlotlyConfig = {MathJaxConfig: 'local'};</script>\n",
              "        <script src=\"https://cdn.plot.ly/plotly-latest.min.js\"></script>    \n",
              "            <div id=\"4f8762a5-51da-4398-8e96-5f9c9132f24c\" class=\"plotly-graph-div\" style=\"height:800px; width:800px;\"></div>\n",
              "            <script type=\"text/javascript\">\n",
              "                \n",
              "                    window.PLOTLYENV=window.PLOTLYENV || {};\n",
              "                    \n",
              "                if (document.getElementById(\"4f8762a5-51da-4398-8e96-5f9c9132f24c\")) {\n",
              "                    Plotly.newPlot(\n",
              "                        '4f8762a5-51da-4398-8e96-5f9c9132f24c',\n",
              "                        [{\"alignmentgroup\": \"True\", \"hoverlabel\": {\"namelength\": 0}, \"hovertemplate\": \"Confirmed=%{text}<br>State=%{y}\", \"legendgroup\": \"\", \"marker\": {\"color\": \"#670404\"}, \"name\": \"\", \"offsetgroup\": \"\", \"opacity\": 0.8, \"orientation\": \"h\", \"showlegend\": false, \"text\": [0.0, 0.0, 0.0, 0.0, 1.0, 1.0, 1.0, 2.0, 7.0, 9.0, 12.0, 33.0, 42.0, 42.0, 42.0, 45.0, 59.0, 61.0, 115.0, 125.0, 176.0, 503.0, 535.0, 548.0, 673.0, 741.0, 1096.0, 1344.0, 1451.0, 1717.0, 2880.0, 3049.0, 3158.0, 4058.0, 5104.0, 6245.0, 15525.0], \"textposition\": \"inside\", \"type\": \"bar\", \"x\": [0, 0, 0, 0, 1, 1, 1, 2, 7, 9, 12, 33, 42, 42, 42, 45, 59, 61, 115, 125, 176, 503, 535, 548, 673, 741, 1096, 1344, 1451, 1717, 2880, 3049, 3158, 4058, 5104, 6245, 15525], \"xaxis\": \"x\", \"y\": [\"Sikkim\", \"Nagaland\", \"Lakshadweep\", \"Daman and Diu\", \"Dadra and Nagar Haveli\", \"Arunachal Pradesh\", \"Mizoram\", \"Manipur\", \"Goa\", \"Puducherry\", \"Meghalaya\", \"Andaman and Nicobar Islands\", \"Tripura\", \"Himachal Pradesh\", \"Ladakh\", \"Assam\", \"Chhattisgarh\", \"Uttarakhand\", \"Chandigarh\", \"Jharkhand\", \"Odisha\", \"Kerala\", \"Bihar\", \"Haryana\", \"Karnataka\", \"Jammu and Kashmir\", \"Telangana\", \"West Bengal\", \"Punjab\", \"Andhra Pradesh\", \"Uttar Pradesh\", \"Madhya Pradesh\", \"Rajasthan\", \"Tamil Nadu\", \"Delhi\", \"Gujarat\", \"Maharashtra\"], \"yaxis\": \"y\"}],\n",
              "                        {\"barmode\": \"relative\", \"height\": 800, \"legend\": {\"tracegroupgap\": 0}, \"plot_bgcolor\": \"#CDCCA7\", \"template\": {\"data\": {\"bar\": [{\"error_x\": {\"color\": \"#2a3f5f\"}, \"error_y\": {\"color\": \"#2a3f5f\"}, \"marker\": {\"line\": {\"color\": \"#E5ECF6\", \"width\": 0.5}}, \"type\": \"bar\"}], \"barpolar\": [{\"marker\": {\"line\": {\"color\": \"#E5ECF6\", \"width\": 0.5}}, \"type\": \"barpolar\"}], \"carpet\": [{\"aaxis\": {\"endlinecolor\": \"#2a3f5f\", \"gridcolor\": \"white\", \"linecolor\": \"white\", \"minorgridcolor\": \"white\", \"startlinecolor\": \"#2a3f5f\"}, \"baxis\": {\"endlinecolor\": \"#2a3f5f\", \"gridcolor\": \"white\", \"linecolor\": \"white\", \"minorgridcolor\": \"white\", \"startlinecolor\": \"#2a3f5f\"}, \"type\": \"carpet\"}], \"choropleth\": [{\"colorbar\": {\"outlinewidth\": 0, \"ticks\": \"\"}, \"type\": \"choropleth\"}], \"contour\": [{\"colorbar\": {\"outlinewidth\": 0, \"ticks\": \"\"}, \"colorscale\": [[0.0, \"#0d0887\"], [0.1111111111111111, \"#46039f\"], [0.2222222222222222, \"#7201a8\"], [0.3333333333333333, \"#9c179e\"], [0.4444444444444444, \"#bd3786\"], [0.5555555555555556, \"#d8576b\"], [0.6666666666666666, \"#ed7953\"], [0.7777777777777778, \"#fb9f3a\"], [0.8888888888888888, \"#fdca26\"], [1.0, \"#f0f921\"]], \"type\": \"contour\"}], \"contourcarpet\": [{\"colorbar\": {\"outlinewidth\": 0, \"ticks\": \"\"}, \"type\": \"contourcarpet\"}], \"heatmap\": [{\"colorbar\": {\"outlinewidth\": 0, \"ticks\": \"\"}, \"colorscale\": [[0.0, \"#0d0887\"], [0.1111111111111111, \"#46039f\"], [0.2222222222222222, \"#7201a8\"], [0.3333333333333333, \"#9c179e\"], [0.4444444444444444, \"#bd3786\"], [0.5555555555555556, \"#d8576b\"], [0.6666666666666666, \"#ed7953\"], [0.7777777777777778, \"#fb9f3a\"], [0.8888888888888888, \"#fdca26\"], [1.0, \"#f0f921\"]], \"type\": \"heatmap\"}], \"heatmapgl\": [{\"colorbar\": {\"outlinewidth\": 0, \"ticks\": \"\"}, \"colorscale\": [[0.0, \"#0d0887\"], [0.1111111111111111, \"#46039f\"], [0.2222222222222222, \"#7201a8\"], [0.3333333333333333, \"#9c179e\"], [0.4444444444444444, \"#bd3786\"], [0.5555555555555556, \"#d8576b\"], [0.6666666666666666, \"#ed7953\"], [0.7777777777777778, \"#fb9f3a\"], [0.8888888888888888, \"#fdca26\"], [1.0, \"#f0f921\"]], \"type\": \"heatmapgl\"}], \"histogram\": [{\"marker\": {\"colorbar\": {\"outlinewidth\": 0, \"ticks\": \"\"}}, \"type\": \"histogram\"}], \"histogram2d\": [{\"colorbar\": {\"outlinewidth\": 0, \"ticks\": \"\"}, \"colorscale\": [[0.0, \"#0d0887\"], [0.1111111111111111, \"#46039f\"], [0.2222222222222222, \"#7201a8\"], [0.3333333333333333, \"#9c179e\"], [0.4444444444444444, \"#bd3786\"], [0.5555555555555556, \"#d8576b\"], [0.6666666666666666, \"#ed7953\"], [0.7777777777777778, \"#fb9f3a\"], [0.8888888888888888, \"#fdca26\"], [1.0, \"#f0f921\"]], \"type\": \"histogram2d\"}], \"histogram2dcontour\": [{\"colorbar\": {\"outlinewidth\": 0, \"ticks\": \"\"}, \"colorscale\": [[0.0, \"#0d0887\"], [0.1111111111111111, \"#46039f\"], [0.2222222222222222, \"#7201a8\"], [0.3333333333333333, \"#9c179e\"], [0.4444444444444444, \"#bd3786\"], [0.5555555555555556, \"#d8576b\"], [0.6666666666666666, \"#ed7953\"], [0.7777777777777778, \"#fb9f3a\"], [0.8888888888888888, \"#fdca26\"], [1.0, \"#f0f921\"]], \"type\": \"histogram2dcontour\"}], \"mesh3d\": [{\"colorbar\": {\"outlinewidth\": 0, \"ticks\": \"\"}, \"type\": \"mesh3d\"}], \"parcoords\": [{\"line\": {\"colorbar\": {\"outlinewidth\": 0, \"ticks\": \"\"}}, \"type\": \"parcoords\"}], \"pie\": [{\"automargin\": true, \"type\": \"pie\"}], \"scatter\": [{\"marker\": {\"colorbar\": {\"outlinewidth\": 0, \"ticks\": \"\"}}, \"type\": \"scatter\"}], \"scatter3d\": [{\"line\": {\"colorbar\": {\"outlinewidth\": 0, \"ticks\": \"\"}}, \"marker\": {\"colorbar\": {\"outlinewidth\": 0, \"ticks\": \"\"}}, \"type\": \"scatter3d\"}], \"scattercarpet\": [{\"marker\": {\"colorbar\": {\"outlinewidth\": 0, \"ticks\": \"\"}}, \"type\": \"scattercarpet\"}], \"scattergeo\": [{\"marker\": {\"colorbar\": {\"outlinewidth\": 0, \"ticks\": \"\"}}, \"type\": \"scattergeo\"}], \"scattergl\": [{\"marker\": {\"colorbar\": {\"outlinewidth\": 0, \"ticks\": \"\"}}, \"type\": \"scattergl\"}], \"scattermapbox\": [{\"marker\": {\"colorbar\": {\"outlinewidth\": 0, \"ticks\": \"\"}}, \"type\": \"scattermapbox\"}], \"scatterpolar\": [{\"marker\": {\"colorbar\": {\"outlinewidth\": 0, \"ticks\": \"\"}}, \"type\": \"scatterpolar\"}], \"scatterpolargl\": [{\"marker\": {\"colorbar\": {\"outlinewidth\": 0, \"ticks\": \"\"}}, \"type\": \"scatterpolargl\"}], \"scatterternary\": [{\"marker\": {\"colorbar\": {\"outlinewidth\": 0, \"ticks\": \"\"}}, \"type\": \"scatterternary\"}], \"surface\": [{\"colorbar\": {\"outlinewidth\": 0, \"ticks\": \"\"}, \"colorscale\": [[0.0, \"#0d0887\"], [0.1111111111111111, \"#46039f\"], [0.2222222222222222, \"#7201a8\"], [0.3333333333333333, \"#9c179e\"], [0.4444444444444444, \"#bd3786\"], [0.5555555555555556, \"#d8576b\"], [0.6666666666666666, \"#ed7953\"], [0.7777777777777778, \"#fb9f3a\"], [0.8888888888888888, \"#fdca26\"], [1.0, \"#f0f921\"]], \"type\": \"surface\"}], \"table\": [{\"cells\": {\"fill\": {\"color\": \"#EBF0F8\"}, \"line\": {\"color\": \"white\"}}, \"header\": {\"fill\": {\"color\": \"#C8D4E3\"}, \"line\": {\"color\": \"white\"}}, \"type\": \"table\"}]}, \"layout\": {\"annotationdefaults\": {\"arrowcolor\": \"#2a3f5f\", \"arrowhead\": 0, \"arrowwidth\": 1}, \"coloraxis\": {\"colorbar\": {\"outlinewidth\": 0, \"ticks\": \"\"}}, \"colorscale\": {\"diverging\": [[0, \"#8e0152\"], [0.1, \"#c51b7d\"], [0.2, \"#de77ae\"], [0.3, \"#f1b6da\"], [0.4, \"#fde0ef\"], [0.5, \"#f7f7f7\"], [0.6, \"#e6f5d0\"], [0.7, \"#b8e186\"], [0.8, \"#7fbc41\"], [0.9, \"#4d9221\"], [1, \"#276419\"]], \"sequential\": [[0.0, \"#0d0887\"], [0.1111111111111111, \"#46039f\"], [0.2222222222222222, \"#7201a8\"], [0.3333333333333333, \"#9c179e\"], [0.4444444444444444, \"#bd3786\"], [0.5555555555555556, \"#d8576b\"], [0.6666666666666666, \"#ed7953\"], [0.7777777777777778, \"#fb9f3a\"], [0.8888888888888888, \"#fdca26\"], [1.0, \"#f0f921\"]], \"sequentialminus\": [[0.0, \"#0d0887\"], [0.1111111111111111, \"#46039f\"], [0.2222222222222222, \"#7201a8\"], [0.3333333333333333, \"#9c179e\"], [0.4444444444444444, \"#bd3786\"], [0.5555555555555556, \"#d8576b\"], [0.6666666666666666, \"#ed7953\"], [0.7777777777777778, \"#fb9f3a\"], [0.8888888888888888, \"#fdca26\"], [1.0, \"#f0f921\"]]}, \"colorway\": [\"#636efa\", \"#EF553B\", \"#00cc96\", \"#ab63fa\", \"#FFA15A\", \"#19d3f3\", \"#FF6692\", \"#B6E880\", \"#FF97FF\", \"#FECB52\"], \"font\": {\"color\": \"#2a3f5f\"}, \"geo\": {\"bgcolor\": \"white\", \"lakecolor\": \"white\", \"landcolor\": \"#E5ECF6\", \"showlakes\": true, \"showland\": true, \"subunitcolor\": \"white\"}, \"hoverlabel\": {\"align\": \"left\"}, \"hovermode\": \"closest\", \"mapbox\": {\"style\": \"light\"}, \"paper_bgcolor\": \"white\", \"plot_bgcolor\": \"#E5ECF6\", \"polar\": {\"angularaxis\": {\"gridcolor\": \"white\", \"linecolor\": \"white\", \"ticks\": \"\"}, \"bgcolor\": \"#E5ECF6\", \"radialaxis\": {\"gridcolor\": \"white\", \"linecolor\": \"white\", \"ticks\": \"\"}}, \"scene\": {\"xaxis\": {\"backgroundcolor\": \"#E5ECF6\", \"gridcolor\": \"white\", \"gridwidth\": 2, \"linecolor\": \"white\", \"showbackground\": true, \"ticks\": \"\", \"zerolinecolor\": \"white\"}, \"yaxis\": {\"backgroundcolor\": \"#E5ECF6\", \"gridcolor\": \"white\", \"gridwidth\": 2, \"linecolor\": \"white\", \"showbackground\": true, \"ticks\": \"\", \"zerolinecolor\": \"white\"}, \"zaxis\": {\"backgroundcolor\": \"#E5ECF6\", \"gridcolor\": \"white\", \"gridwidth\": 2, \"linecolor\": \"white\", \"showbackground\": true, \"ticks\": \"\", \"zerolinecolor\": \"white\"}}, \"shapedefaults\": {\"line\": {\"color\": \"#2a3f5f\"}}, \"ternary\": {\"aaxis\": {\"gridcolor\": \"white\", \"linecolor\": \"white\", \"ticks\": \"\"}, \"baxis\": {\"gridcolor\": \"white\", \"linecolor\": \"white\", \"ticks\": \"\"}, \"bgcolor\": \"#E5ECF6\", \"caxis\": {\"gridcolor\": \"white\", \"linecolor\": \"white\", \"ticks\": \"\"}}, \"title\": {\"x\": 0.05}, \"xaxis\": {\"automargin\": true, \"gridcolor\": \"white\", \"linecolor\": \"white\", \"ticks\": \"\", \"title\": {\"standoff\": 15}, \"zerolinecolor\": \"white\", \"zerolinewidth\": 2}, \"yaxis\": {\"automargin\": true, \"gridcolor\": \"white\", \"linecolor\": \"white\", \"ticks\": \"\", \"title\": {\"standoff\": 15}, \"zerolinecolor\": \"white\", \"zerolinewidth\": 2}}}, \"title\": {\"text\": \"Total Confirmed Cases\"}, \"width\": 800, \"xaxis\": {\"anchor\": \"y\", \"domain\": [0.0, 1.0], \"range\": [0, 15525], \"title\": {\"text\": \"Confirmed\"}}, \"yaxis\": {\"anchor\": \"x\", \"domain\": [0.0, 1.0], \"title\": {\"text\": \"State\"}}},\n",
              "                        {\"responsive\": true}\n",
              "                    ).then(function(){\n",
              "                            \n",
              "var gd = document.getElementById('4f8762a5-51da-4398-8e96-5f9c9132f24c');\n",
              "var x = new MutationObserver(function (mutations, observer) {{\n",
              "        var display = window.getComputedStyle(gd).display;\n",
              "        if (!display || display === 'none') {{\n",
              "            console.log([gd, 'removed!']);\n",
              "            Plotly.purge(gd);\n",
              "            observer.disconnect();\n",
              "        }}\n",
              "}});\n",
              "\n",
              "// Listen for the removal of the full notebook cells\n",
              "var notebookContainer = gd.closest('#notebook-container');\n",
              "if (notebookContainer) {{\n",
              "    x.observe(notebookContainer, {childList: true});\n",
              "}}\n",
              "\n",
              "// Listen for the clearing of the current output cell\n",
              "var outputEl = gd.closest('.output');\n",
              "if (outputEl) {{\n",
              "    x.observe(outputEl, {childList: true});\n",
              "}}\n",
              "\n",
              "                        })\n",
              "                };\n",
              "                \n",
              "            </script>\n",
              "        </div>\n",
              "</body>\n",
              "</html>"
            ]
          },
          "metadata": {}
        }
      ]
    },
    {
      "cell_type": "code",
      "metadata": {
        "colab": {
          "base_uri": "https://localhost:8080/",
          "height": 271
        },
        "id": "HEk-cuiX2FBx",
        "outputId": "60b23114-392a-4915-9c31-955ac33af432"
      },
      "source": [
        "dbd_testing_india = pd.read_excel('/content/gdrive/MyDrive/covid-complete/COVID19 India Complete Dataset May 2020.xlsx', sheet_name='ICMR Testing Count')\n",
        "dbd_testing_india['Update Time Stamp'] = pd.to_datetime(dbd_testing_india['Update Time Stamp'], format='%d/%m/%Y %I:%M: %p')\n",
        "dbd_testing_india.head(2)"
      ],
      "execution_count": null,
      "outputs": [
        {
          "output_type": "execute_result",
          "data": {
            "text/html": [
              "<div>\n",
              "<style scoped>\n",
              "    .dataframe tbody tr th:only-of-type {\n",
              "        vertical-align: middle;\n",
              "    }\n",
              "\n",
              "    .dataframe tbody tr th {\n",
              "        vertical-align: top;\n",
              "    }\n",
              "\n",
              "    .dataframe thead th {\n",
              "        text-align: right;\n",
              "    }\n",
              "</style>\n",
              "<table border=\"1\" class=\"dataframe\">\n",
              "  <thead>\n",
              "    <tr style=\"text-align: right;\">\n",
              "      <th></th>\n",
              "      <th>Update Time Stamp</th>\n",
              "      <th>Total Samples Tested</th>\n",
              "      <th>Total Individuals Tested</th>\n",
              "      <th>Total Positive Cases</th>\n",
              "      <th>Tests conducted by Private Labs</th>\n",
              "      <th>Sample Reported today</th>\n",
              "      <th>Positive cases from samples reported</th>\n",
              "      <th>Source</th>\n",
              "      <th>Unnamed: 8</th>\n",
              "      <th>Test positivity rate</th>\n",
              "      <th>Individuals Tested Per Confirmed Case</th>\n",
              "      <th>Tests Per Confirmed Case</th>\n",
              "    </tr>\n",
              "  </thead>\n",
              "  <tbody>\n",
              "    <tr>\n",
              "      <th>0</th>\n",
              "      <td>2020-03-13 00:00:00</td>\n",
              "      <td>6500.0</td>\n",
              "      <td>5900.0</td>\n",
              "      <td>78.0</td>\n",
              "      <td>NaN</td>\n",
              "      <td>NaN</td>\n",
              "      <td>NaN</td>\n",
              "      <td>Press_Release_ICMR_13March2020.pdf</td>\n",
              "      <td>NaN</td>\n",
              "      <td>0.0132</td>\n",
              "      <td>75.641026</td>\n",
              "      <td>83.333333</td>\n",
              "    </tr>\n",
              "    <tr>\n",
              "      <th>1</th>\n",
              "      <td>2020-03-18 18:00:00</td>\n",
              "      <td>13125.0</td>\n",
              "      <td>12235.0</td>\n",
              "      <td>150.0</td>\n",
              "      <td>NaN</td>\n",
              "      <td>NaN</td>\n",
              "      <td>NaN</td>\n",
              "      <td>ICMR_website_update_18March_6PM_IST.pdf</td>\n",
              "      <td>NaN</td>\n",
              "      <td>0.0123</td>\n",
              "      <td>81.566667</td>\n",
              "      <td>87.500000</td>\n",
              "    </tr>\n",
              "  </tbody>\n",
              "</table>\n",
              "</div>"
            ],
            "text/plain": [
              "    Update Time Stamp  ...  Tests Per Confirmed Case\n",
              "0 2020-03-13 00:00:00  ...                 83.333333\n",
              "1 2020-03-18 18:00:00  ...                 87.500000\n",
              "\n",
              "[2 rows x 12 columns]"
            ]
          },
          "metadata": {},
          "execution_count": 10
        }
      ]
    },
    {
      "cell_type": "code",
      "metadata": {
        "colab": {
          "base_uri": "https://localhost:8080/",
          "height": 382
        },
        "id": "56D1Ft6a4vmU",
        "outputId": "bc135723-7242-415c-fd72-670edeaac5da"
      },
      "source": [
        "df_hos_bed = dbd_testing_india.rename(columns={'Update Time Stamp':'DateTime', 'Total Individuals Tested':'TotalIndividualsTested', 'Total Positive Cases':\\\n",
        "                                              'TotalPositiveCases'}).copy()\n",
        "df_hos_bed['DateTime'] = df_hos_bed['DateTime'].dt.date\n",
        "df_hos_bed.head()"
      ],
      "execution_count": null,
      "outputs": [
        {
          "output_type": "execute_result",
          "data": {
            "text/html": [
              "<div>\n",
              "<style scoped>\n",
              "    .dataframe tbody tr th:only-of-type {\n",
              "        vertical-align: middle;\n",
              "    }\n",
              "\n",
              "    .dataframe tbody tr th {\n",
              "        vertical-align: top;\n",
              "    }\n",
              "\n",
              "    .dataframe thead th {\n",
              "        text-align: right;\n",
              "    }\n",
              "</style>\n",
              "<table border=\"1\" class=\"dataframe\">\n",
              "  <thead>\n",
              "    <tr style=\"text-align: right;\">\n",
              "      <th></th>\n",
              "      <th>DateTime</th>\n",
              "      <th>Total Samples Tested</th>\n",
              "      <th>TotalIndividualsTested</th>\n",
              "      <th>TotalPositiveCases</th>\n",
              "      <th>Tests conducted by Private Labs</th>\n",
              "      <th>Sample Reported today</th>\n",
              "      <th>Positive cases from samples reported</th>\n",
              "      <th>Source</th>\n",
              "      <th>Unnamed: 8</th>\n",
              "      <th>Test positivity rate</th>\n",
              "      <th>Individuals Tested Per Confirmed Case</th>\n",
              "      <th>Tests Per Confirmed Case</th>\n",
              "    </tr>\n",
              "  </thead>\n",
              "  <tbody>\n",
              "    <tr>\n",
              "      <th>0</th>\n",
              "      <td>2020-03-13</td>\n",
              "      <td>6500.0</td>\n",
              "      <td>5900.0</td>\n",
              "      <td>78.0</td>\n",
              "      <td>NaN</td>\n",
              "      <td>NaN</td>\n",
              "      <td>NaN</td>\n",
              "      <td>Press_Release_ICMR_13March2020.pdf</td>\n",
              "      <td>NaN</td>\n",
              "      <td>0.0132</td>\n",
              "      <td>75.641026</td>\n",
              "      <td>83.333333</td>\n",
              "    </tr>\n",
              "    <tr>\n",
              "      <th>1</th>\n",
              "      <td>2020-03-18</td>\n",
              "      <td>13125.0</td>\n",
              "      <td>12235.0</td>\n",
              "      <td>150.0</td>\n",
              "      <td>NaN</td>\n",
              "      <td>NaN</td>\n",
              "      <td>NaN</td>\n",
              "      <td>ICMR_website_update_18March_6PM_IST.pdf</td>\n",
              "      <td>NaN</td>\n",
              "      <td>0.0123</td>\n",
              "      <td>81.566667</td>\n",
              "      <td>87.500000</td>\n",
              "    </tr>\n",
              "    <tr>\n",
              "      <th>2</th>\n",
              "      <td>2020-03-19</td>\n",
              "      <td>13316.0</td>\n",
              "      <td>12426.0</td>\n",
              "      <td>168.0</td>\n",
              "      <td>NaN</td>\n",
              "      <td>NaN</td>\n",
              "      <td>NaN</td>\n",
              "      <td>ICMR_website_update_19March_10AM_IST_V2.pdf</td>\n",
              "      <td>NaN</td>\n",
              "      <td>0.0135</td>\n",
              "      <td>73.964286</td>\n",
              "      <td>79.261905</td>\n",
              "    </tr>\n",
              "    <tr>\n",
              "      <th>3</th>\n",
              "      <td>2020-03-19</td>\n",
              "      <td>14175.0</td>\n",
              "      <td>13285.0</td>\n",
              "      <td>182.0</td>\n",
              "      <td>NaN</td>\n",
              "      <td>NaN</td>\n",
              "      <td>NaN</td>\n",
              "      <td>ICMR_website_update_19March_6PM_IST.pdf</td>\n",
              "      <td>NaN</td>\n",
              "      <td>0.0137</td>\n",
              "      <td>72.994505</td>\n",
              "      <td>77.884615</td>\n",
              "    </tr>\n",
              "    <tr>\n",
              "      <th>4</th>\n",
              "      <td>2020-03-20</td>\n",
              "      <td>14376.0</td>\n",
              "      <td>13486.0</td>\n",
              "      <td>206.0</td>\n",
              "      <td>NaN</td>\n",
              "      <td>NaN</td>\n",
              "      <td>NaN</td>\n",
              "      <td>ICMR_website_update_20March_10AM_IST.pdf</td>\n",
              "      <td>NaN</td>\n",
              "      <td>0.0153</td>\n",
              "      <td>65.466019</td>\n",
              "      <td>69.786408</td>\n",
              "    </tr>\n",
              "  </tbody>\n",
              "</table>\n",
              "</div>"
            ],
            "text/plain": [
              "     DateTime  ...  Tests Per Confirmed Case\n",
              "0  2020-03-13  ...                 83.333333\n",
              "1  2020-03-18  ...                 87.500000\n",
              "2  2020-03-19  ...                 79.261905\n",
              "3  2020-03-19  ...                 77.884615\n",
              "4  2020-03-20  ...                 69.786408\n",
              "\n",
              "[5 rows x 12 columns]"
            ]
          },
          "metadata": {},
          "execution_count": 11
        }
      ]
    },
    {
      "cell_type": "code",
      "metadata": {
        "id": "yksfg5hx2AnD"
      },
      "source": [
        "df_hos_bed['totalnegative'] = df_hos_bed['TotalIndividualsTested'] - df_hos_bed['TotalPositiveCases']"
      ],
      "execution_count": null,
      "outputs": []
    },
    {
      "cell_type": "code",
      "metadata": {
        "colab": {
          "base_uri": "https://localhost:8080/",
          "height": 521
        },
        "id": "UVPEMdvJ43WT",
        "outputId": "e369392d-d213-4492-fa59-5d86d5789c6b"
      },
      "source": [
        "df_hos_bed_per_day = df_hos_bed.drop_duplicates(subset=['DateTime'], keep='last')\n",
        "df_hos_bed_per_day['test_results_posratio'] = round(df_hos_bed_per_day['TotalPositiveCases']/df_hos_bed_per_day['TotalIndividualsTested'], 3)\n",
        "df_hos_bed_per_day.head()"
      ],
      "execution_count": null,
      "outputs": [
        {
          "output_type": "stream",
          "name": "stderr",
          "text": [
            "/usr/local/lib/python3.7/dist-packages/ipykernel_launcher.py:2: SettingWithCopyWarning:\n",
            "\n",
            "\n",
            "A value is trying to be set on a copy of a slice from a DataFrame.\n",
            "Try using .loc[row_indexer,col_indexer] = value instead\n",
            "\n",
            "See the caveats in the documentation: https://pandas.pydata.org/pandas-docs/stable/user_guide/indexing.html#returning-a-view-versus-a-copy\n",
            "\n"
          ]
        },
        {
          "output_type": "execute_result",
          "data": {
            "text/html": [
              "<div>\n",
              "<style scoped>\n",
              "    .dataframe tbody tr th:only-of-type {\n",
              "        vertical-align: middle;\n",
              "    }\n",
              "\n",
              "    .dataframe tbody tr th {\n",
              "        vertical-align: top;\n",
              "    }\n",
              "\n",
              "    .dataframe thead th {\n",
              "        text-align: right;\n",
              "    }\n",
              "</style>\n",
              "<table border=\"1\" class=\"dataframe\">\n",
              "  <thead>\n",
              "    <tr style=\"text-align: right;\">\n",
              "      <th></th>\n",
              "      <th>DateTime</th>\n",
              "      <th>Total Samples Tested</th>\n",
              "      <th>TotalIndividualsTested</th>\n",
              "      <th>TotalPositiveCases</th>\n",
              "      <th>Tests conducted by Private Labs</th>\n",
              "      <th>Sample Reported today</th>\n",
              "      <th>Positive cases from samples reported</th>\n",
              "      <th>Source</th>\n",
              "      <th>Unnamed: 8</th>\n",
              "      <th>Test positivity rate</th>\n",
              "      <th>Individuals Tested Per Confirmed Case</th>\n",
              "      <th>Tests Per Confirmed Case</th>\n",
              "      <th>totalnegative</th>\n",
              "      <th>test_results_posratio</th>\n",
              "    </tr>\n",
              "  </thead>\n",
              "  <tbody>\n",
              "    <tr>\n",
              "      <th>0</th>\n",
              "      <td>2020-03-13</td>\n",
              "      <td>6500.0</td>\n",
              "      <td>5900.0</td>\n",
              "      <td>78.0</td>\n",
              "      <td>NaN</td>\n",
              "      <td>NaN</td>\n",
              "      <td>NaN</td>\n",
              "      <td>Press_Release_ICMR_13March2020.pdf</td>\n",
              "      <td>NaN</td>\n",
              "      <td>0.0132</td>\n",
              "      <td>75.641026</td>\n",
              "      <td>83.333333</td>\n",
              "      <td>5822.0</td>\n",
              "      <td>0.013</td>\n",
              "    </tr>\n",
              "    <tr>\n",
              "      <th>1</th>\n",
              "      <td>2020-03-18</td>\n",
              "      <td>13125.0</td>\n",
              "      <td>12235.0</td>\n",
              "      <td>150.0</td>\n",
              "      <td>NaN</td>\n",
              "      <td>NaN</td>\n",
              "      <td>NaN</td>\n",
              "      <td>ICMR_website_update_18March_6PM_IST.pdf</td>\n",
              "      <td>NaN</td>\n",
              "      <td>0.0123</td>\n",
              "      <td>81.566667</td>\n",
              "      <td>87.500000</td>\n",
              "      <td>12085.0</td>\n",
              "      <td>0.012</td>\n",
              "    </tr>\n",
              "    <tr>\n",
              "      <th>3</th>\n",
              "      <td>2020-03-19</td>\n",
              "      <td>14175.0</td>\n",
              "      <td>13285.0</td>\n",
              "      <td>182.0</td>\n",
              "      <td>NaN</td>\n",
              "      <td>NaN</td>\n",
              "      <td>NaN</td>\n",
              "      <td>ICMR_website_update_19March_6PM_IST.pdf</td>\n",
              "      <td>NaN</td>\n",
              "      <td>0.0137</td>\n",
              "      <td>72.994505</td>\n",
              "      <td>77.884615</td>\n",
              "      <td>13103.0</td>\n",
              "      <td>0.014</td>\n",
              "    </tr>\n",
              "    <tr>\n",
              "      <th>5</th>\n",
              "      <td>2020-03-20</td>\n",
              "      <td>15404.0</td>\n",
              "      <td>14514.0</td>\n",
              "      <td>236.0</td>\n",
              "      <td>NaN</td>\n",
              "      <td>NaN</td>\n",
              "      <td>NaN</td>\n",
              "      <td>ICMR_website_update_20March_6PM_IST.pdf</td>\n",
              "      <td>NaN</td>\n",
              "      <td>0.0163</td>\n",
              "      <td>61.500000</td>\n",
              "      <td>65.271186</td>\n",
              "      <td>14278.0</td>\n",
              "      <td>0.016</td>\n",
              "    </tr>\n",
              "    <tr>\n",
              "      <th>7</th>\n",
              "      <td>2020-03-21</td>\n",
              "      <td>16911.0</td>\n",
              "      <td>16021.0</td>\n",
              "      <td>315.0</td>\n",
              "      <td>NaN</td>\n",
              "      <td>NaN</td>\n",
              "      <td>NaN</td>\n",
              "      <td>ICMR_website_update_21March_6PM_IST.pdf</td>\n",
              "      <td>NaN</td>\n",
              "      <td>0.0197</td>\n",
              "      <td>50.860317</td>\n",
              "      <td>53.685714</td>\n",
              "      <td>15706.0</td>\n",
              "      <td>0.020</td>\n",
              "    </tr>\n",
              "  </tbody>\n",
              "</table>\n",
              "</div>"
            ],
            "text/plain": [
              "     DateTime  Total Samples Tested  ...  totalnegative  test_results_posratio\n",
              "0  2020-03-13                6500.0  ...         5822.0                  0.013\n",
              "1  2020-03-18               13125.0  ...        12085.0                  0.012\n",
              "3  2020-03-19               14175.0  ...        13103.0                  0.014\n",
              "5  2020-03-20               15404.0  ...        14278.0                  0.016\n",
              "7  2020-03-21               16911.0  ...        15706.0                  0.020\n",
              "\n",
              "[5 rows x 14 columns]"
            ]
          },
          "metadata": {},
          "execution_count": 13
        }
      ]
    },
    {
      "cell_type": "code",
      "metadata": {
        "colab": {
          "base_uri": "https://localhost:8080/",
          "height": 253
        },
        "id": "JqqAlvp446uj",
        "outputId": "d47b970d-b1fe-496c-c97f-32022c3afa7c"
      },
      "source": [
        "df_indi = pd.read_excel('/content/gdrive/MyDrive/covid-complete/COVID19 India Complete Dataset May 2020.xlsx', sheet_name='Raw Data')\n",
        "df_indi.rename(columns={'Patient Number':'id','Current Status':'current_status', 'Age Bracket':'age', 'Notes':'notes'}, inplace=True)\n",
        "df_indi.head(2)"
      ],
      "execution_count": null,
      "outputs": [
        {
          "output_type": "execute_result",
          "data": {
            "text/html": [
              "<div>\n",
              "<style scoped>\n",
              "    .dataframe tbody tr th:only-of-type {\n",
              "        vertical-align: middle;\n",
              "    }\n",
              "\n",
              "    .dataframe tbody tr th {\n",
              "        vertical-align: top;\n",
              "    }\n",
              "\n",
              "    .dataframe thead th {\n",
              "        text-align: right;\n",
              "    }\n",
              "</style>\n",
              "<table border=\"1\" class=\"dataframe\">\n",
              "  <thead>\n",
              "    <tr style=\"text-align: right;\">\n",
              "      <th></th>\n",
              "      <th>id</th>\n",
              "      <th>State Patient Number</th>\n",
              "      <th>Date Announced</th>\n",
              "      <th>Estimated Onset Date</th>\n",
              "      <th>age</th>\n",
              "      <th>Gender</th>\n",
              "      <th>Detected City</th>\n",
              "      <th>Detected District</th>\n",
              "      <th>Detected State</th>\n",
              "      <th>State code</th>\n",
              "      <th>current_status</th>\n",
              "      <th>notes</th>\n",
              "      <th>Contracted from which Patient (Suspected)</th>\n",
              "      <th>Nationality</th>\n",
              "      <th>Type of transmission</th>\n",
              "      <th>Status Change Date</th>\n",
              "      <th>Source_1</th>\n",
              "      <th>Source_2</th>\n",
              "      <th>Source_3</th>\n",
              "      <th>Backup Notes</th>\n",
              "    </tr>\n",
              "  </thead>\n",
              "  <tbody>\n",
              "    <tr>\n",
              "      <th>0</th>\n",
              "      <td>1</td>\n",
              "      <td>KL-TS-P1</td>\n",
              "      <td>2020-01-30</td>\n",
              "      <td>NaN</td>\n",
              "      <td>20</td>\n",
              "      <td>F</td>\n",
              "      <td>Thrissur</td>\n",
              "      <td>Thrissur</td>\n",
              "      <td>Kerala</td>\n",
              "      <td>KL</td>\n",
              "      <td>Recovered</td>\n",
              "      <td>Travelled from Wuhan</td>\n",
              "      <td>NaN</td>\n",
              "      <td>India</td>\n",
              "      <td>Imported</td>\n",
              "      <td>2020-02-14</td>\n",
              "      <td>https://twitter.com/vijayanpinarayi/status/122...</td>\n",
              "      <td>https://weather.com/en-IN/india/news/news/2020...</td>\n",
              "      <td>NaN</td>\n",
              "      <td>Student from Wuhan</td>\n",
              "    </tr>\n",
              "    <tr>\n",
              "      <th>1</th>\n",
              "      <td>2</td>\n",
              "      <td>KL-AL-P1</td>\n",
              "      <td>2020-02-02</td>\n",
              "      <td>NaN</td>\n",
              "      <td>NaN</td>\n",
              "      <td>NaN</td>\n",
              "      <td>Alappuzha</td>\n",
              "      <td>Alappuzha</td>\n",
              "      <td>Kerala</td>\n",
              "      <td>KL</td>\n",
              "      <td>Recovered</td>\n",
              "      <td>Travelled from Wuhan</td>\n",
              "      <td>NaN</td>\n",
              "      <td>India</td>\n",
              "      <td>Imported</td>\n",
              "      <td>2020-02-14</td>\n",
              "      <td>https://www.indiatoday.in/india/story/kerala-r...</td>\n",
              "      <td>https://weather.com/en-IN/india/news/news/2020...</td>\n",
              "      <td>NaN</td>\n",
              "      <td>Student from Wuhan</td>\n",
              "    </tr>\n",
              "  </tbody>\n",
              "</table>\n",
              "</div>"
            ],
            "text/plain": [
              "   id State Patient Number  ... Source_3        Backup Notes\n",
              "0   1             KL-TS-P1  ...      NaN  Student from Wuhan\n",
              "1   2             KL-AL-P1  ...      NaN  Student from Wuhan\n",
              "\n",
              "[2 rows x 20 columns]"
            ]
          },
          "metadata": {},
          "execution_count": 14
        }
      ]
    },
    {
      "cell_type": "code",
      "metadata": {
        "id": "ewIGxWXa5K1z"
      },
      "source": [
        "df_indi.dropna(subset=['current_status', 'age'], inplace=True)\n",
        "df_indi.reset_index(drop=True, inplace=True)"
      ],
      "execution_count": null,
      "outputs": []
    },
    {
      "cell_type": "code",
      "metadata": {
        "colab": {
          "base_uri": "https://localhost:8080/"
        },
        "id": "lRvUjLbp5PZy",
        "outputId": "33b74844-687b-4e06-9dae-1216b0996932"
      },
      "source": [
        "df_indi['current_status'].unique(), df_indi.shape"
      ],
      "execution_count": null,
      "outputs": [
        {
          "output_type": "execute_result",
          "data": {
            "text/plain": [
              "(array(['Recovered', 'Hospitalized', 'Deceased'], dtype=object), (2406, 20))"
            ]
          },
          "metadata": {},
          "execution_count": 16
        }
      ]
    },
    {
      "cell_type": "code",
      "metadata": {
        "colab": {
          "base_uri": "https://localhost:8080/",
          "height": 542
        },
        "id": "v0yEpu6l5Tn7",
        "outputId": "0382eccf-046a-4ddc-c0bc-43260ca7c465"
      },
      "source": [
        "df1_indians = df_indi[df_indi['current_status'] == 'Deceased']\n",
        "df2_indians = df_indi[df_indi['current_status'] == 'Hospitalized']\n",
        "df3_indians = df_indi[df_indi['current_status'] == 'Recovered']\n",
        "\n",
        "fig = go.Figure()\n",
        "fig.add_trace(go.Box(y=df1_indians['age'], name=\"Deceased Patients\"))\n",
        "fig.add_trace(go.Box(y=df2_indians['age'], name=\"Hospitalized Patients\"))\n",
        "fig.add_trace(go.Box(y=df3_indians['age'], name=\"Recovered Patients\"))\n",
        "fig.update_layout(title_text='Indian COVID-19 Patients Outcome Age-Wise')\n",
        "fig.show()"
      ],
      "execution_count": null,
      "outputs": [
        {
          "output_type": "display_data",
          "data": {
            "text/html": [
              "<html>\n",
              "<head><meta charset=\"utf-8\" /></head>\n",
              "<body>\n",
              "    <div>\n",
              "            <script src=\"https://cdnjs.cloudflare.com/ajax/libs/mathjax/2.7.5/MathJax.js?config=TeX-AMS-MML_SVG\"></script><script type=\"text/javascript\">if (window.MathJax) {MathJax.Hub.Config({SVG: {font: \"STIX-Web\"}});}</script>\n",
              "                <script type=\"text/javascript\">window.PlotlyConfig = {MathJaxConfig: 'local'};</script>\n",
              "        <script src=\"https://cdn.plot.ly/plotly-latest.min.js\"></script>    \n",
              "            <div id=\"b02b7375-440e-4271-8736-3b52b581d89e\" class=\"plotly-graph-div\" style=\"height:525px; width:100%;\"></div>\n",
              "            <script type=\"text/javascript\">\n",
              "                \n",
              "                    window.PLOTLYENV=window.PLOTLYENV || {};\n",
              "                    \n",
              "                if (document.getElementById(\"b02b7375-440e-4271-8736-3b52b581d89e\")) {\n",
              "                    Plotly.newPlot(\n",
              "                        'b02b7375-440e-4271-8736-3b52b581d89e',\n",
              "                        [{\"name\": \"Deceased Patients\", \"type\": \"box\", \"y\": [69, 65, 76, 70, 63, 67, 57, 38, 69, 85, 69, 54, 65, 65, 70, 35, 60, 74, 44, 68, 45, 48, 73, 75, 67, 67, 65, 44, 62, 75, 60, 1, 80, 72, 71, 65, 66, 55, 22, 50, 80, 42, 50, 45, 28]}, {\"name\": \"Hospitalized Patients\", \"type\": \"box\", \"y\": [55, 55, 27, 65, 75, 25, 63, 3, 46, 70, 68, 45, 33, 33, 27, 37, 59, 43, 24, 21, 59, 46, 47, 42, 33, 3, 44, 51, 31, 29, 49, 26, 68, 52, 22, 34, 28, 25, 22, 27, 44, 20, 68, 21, 50, 67, 33, 30, 3, 38, 23, 22, 49, 24, 47, 32, 21, 51, 19, 22, 22, 32, 22, 69, 58, 24, 38, 20, 22, 47, 37, 35, 20, 41, 18, 69, 27, 26, 52, 21, 52, 27, 2, 63, 59, 45, 22, 24, 27, 60, 32, 20, 53, 42, 74, 28, 59, 41, 24, 26, 32, 38, 26, 39, 19, 35, 33, 69, 75, 65, 35, 34, 45, 40, 17, 36, 60, 54, 21, 23, 59, 22, 24, 31, 30, 32, 30, 21, 60, 64, 35, 25, 24, 81, 26, 58, 27, 32, 41, 33, 26, 34, 23, 23, 50, 32, 24, 41, 21, 37, 62, 47, 20, 53, 64, 43, 49, 36, 45, 58, 57, 27, 29, 24, 33, 49, 46, 61, 21, 30, 23, 21, 20, 25, 56, 32, 49, 24, 30, 31, 41, 34, 40, 37, 47, 34, 50, 32, 27, 33, 32, 27, 34, 52, 26, 61, 56, 30, 60, 2, 25, 25, 48, 24, 35, 41, 38, 45, 65, 53, 54, 58, 74, 52, 25, 49, 39, 61, 56, 55, 57, 47, 57, 25, 65, 55, 25, 64, 36, 75, 57, 36, 50, 57, 27, 39, 38, 63, 34, 21, 22, 23, 37, 26, 9, 7, 55, 31, 26, 43, 3, 22, 18, 26, 63, 52, 25, 29, 55, 66, 21, 39, 33, 32, 40, 12, 49, 36, 41, 45, 35, 64, 45, 42, 21, 24, 7, 1, 37, 38, 49, 39, 32, 21, 24, 65, 20, 29, 60, 45, 37, 54, 22, 44, 42, 46, 23, 25, 20, 25, 35, 33, 53, 38, 30, 42, 41, 53, 18, 14, 47, 11, 27, 45, 6, 1, 73, 61, 39, 45, 22, 50, 37, 39, 33, 25, 65, 42, 49, 66, 23, 21, 54, 28, 23, 63, 21, 45, 40, 56, \"28-35\", \"28-35\", \"28-35\", \"28-35\", 11, 35, 63, 18, 33, 44, 35, 60, 25, 24, 76, 56, 54, 36, 52, 31, 50, 23, 58, 21, 60, 50, 65, 30, 21, 40, 48, 21, 38, 17, 39, 31, 53, 47, 67, 34, 21, 19, 53, 35, 34, 37, 19, 52, 45, 30, 25, 41, 50, 43, 28, 39, 45, 48, 67, 62, 35, 29, 47, 52, 66, 53, 40, 20, 35, 59, 65, 41, 38, 50, 92, 55, 65, 49, 72, 25, 52, 76, 15, 20, 50, 42, 77, 32, 32, 23, 23, 40, 13, 21, 81, 52, 48, 26, 44, 17, 65, 60, 35, 55, 51, 52, 43, 28, 10, 34, 31, 32, 28, 28, 39, 65, 42, 39, 32, 59, 44, 28, 46, 35, 65, 40, 19, 40, 41, 34, 26, 57, 22, 56, 23, 43, 23, 52, 28, 60, 40, 62, 35, 31, 36, 27, 35, 70, 23, 21, 70, 29, 31, 40, 58, 31, 52, 18, 45, 65, 68, 54, 58, 67, 40, 54, 50, 41, 25, 50, 20, 54, 36, 40, 26, 40, 41, 46, 53, 36, 35, 39, 36, 39, 27, 45, 34, 47, 48, 39, 44, 54, 45, 30, 33, 50, 50, 20, 53, 46, 50, 39, 31, 35, 80, 35, 72, 24, 37, 27, 33, 65, 28, 40, 34, 36, 41, 38, 39, 40, 30, 45, 57, 32, 34, 45, 52, 40, 46, 37, 47, 33, 21, 44, 39, 38, 55, 31, 51, 34, 40, 50, 43, 33, 38, 37, 26, 54, 60, 50, 63, 55, 56, 66, 52, 63, 27, 40, 48, 54, 71, 31, 50, 48, 68, 36, 47, 55, 22, 55, 35, 35, 48, 42, 48, 38, 40, 58, 42, 40, 27, 39, 41, 38, 25, 42, 66, 18, 52, 52, 72, 32, 11, 15, 32, 17, 47, 61, 30, 50, 36, 27, 42, 27, 36, 78, 49, 63, 63, 27, 25, 36, 18, 16, 42, 43, 43, 40, 72, 72, 40, 61, 36, 52, 52, 31, 10, 10, 10, 40, 53, 61, 60, 43, 34, 42, 43, 32, 47, 31, 36, 35, 37, 39, 46, 33, 43, 23, 52, 65, 48, 30, 41, 66, 59, 39, 60, 63, 73, 45, 60, 60, 38, 70, 35, 10, 7, 58, 27, 28, 36, 1, 36, 24, 22, 14, 28, 17, 60, 35, 30, 7, 68, 65, 69, 51, 70, 26, 20, 35, 79, 35, 37, 32, 30, 58, 34, 56, 16, 21, 57, 43, 78, 60, 38, 19, 39, 39, 54, 40, 34, 47, 63, 43, 52, 60, 35, 65, 61, 45, 60, 33, 47, 45, 33, 34, 32, 52, 35, 36, 40, 45, 25, 35, 17, 27, 37, 45, 28, 30, 37, 43, 37, 35, 65, 48, 45, 48, 33, 27, 50, 65, 55, 17, 42, 56, 16, 18, 41, 55, 75, 34, 26, 60, 54, 40, 34, 68, 62, 70, 29, 42, 44, 81, 7, 36, 40, 67, 41, 41, 20, 28, 22, 44, 30, 60, 59, 19, 77, 30, 32, 31, 50, 52, 36, 31, 31, 45, 32, 36, 37, 55, 38, 43, 23, 43, 50, 52, 62, 90, 48, 80, 39, 29, 34, 20, 37, 39, 37, 32, 35, 24, 38, 38, 16, 60, 51, 47, 52, 27, 15, 52, 54, 28, 40, 32, 28, 55, 76, 32, 62, 20, 37, 57, 22, 26, 33, 35, 54, 58, 43, 19, 26, 32, 25, 62, 32, 32, 46, 38, 47, 45, 34, 40, 42, 30, 30, 50, 21, 43, 12, 65, 53, 50, 18, 35, 11, 41, 34, 50, 54, 47, 57, 38, 13, 21, 44, 41, 35, 80, 55, 17, 16, 52, 57, 45, 70, 32, 60, 64, 24, 33, 59, 64, 53, 65, 26, 41, 40, 25, 64, 33, 21, 48, 29, 54, 33, 35, 33, 41, 29, 50, 35, 68, 32, 36, 65, 28, 57, 45, 35, 77, 31, 42, 45, 22, 36, 27, 46, 28, 51, 27, 67, 40, 42, 40, 63, 43, 53, 70, 33, 80, 16, 63, 41, 24, 26, 20, 15, 16, 70, 22, 43, 38, 19, 10, 47, 17, 19, 24, 55, 55, 21, 43, 24, 32, 26, 30, 56, 26, 72, 35, 23, 27, 50, 35, 32, 11, 55, 47, 22, 63, 45, 35, 35, 68, 35, 39, 70, 36, 25, 24, 44, 35, 56, 50, 25, 56, 60, 21, 46, 20, 57, 21, 52, 38, 26, 18, 12, 29, 52, 50, 12, 20, 30, 10, 15, 18, 36, 69, 51, 50, 55, 68, 32, 4, 13, 9, 19, 27, 48, 42, 74, 63, 40, 22, 27, 42, 27, 13, 75, 21, 35, 19, 14, 8, 46, 49, 29, 30, 40, 16, 15, 75, 52, 36, 35, 47, 41, 60, 67, 47, 19, 22, 25, 19, 11, 19, 60, 20, 37, 9, 5, 10, 28, 44, 58, 48, 57, 8, 48, 33, 28, 48, 35, 11, 47, 54, 40, 60, 59, 32, 41, 47, 28, 27, 71, 65, 51, 8, 29, 3, 50, 25, 35, 55, 17, 20, 35, 22, 32, 46, 43, 50, 27, 31, 26, 45, 29, 33, 14, 68, 40, 26, 67, 26, 33, 6, 37, 8, 22, 40, 13, 50, 7, 11, 34, 24, 49, 31, 69, 38, 31, 13, 62, 59, 24, 10, 16, 40, 63, 67, 18, 17, 46, 32, 75, 58, 76, 24, 60, 38, 19, 38, 55, 25, 40, 8, 2, 13, 12, 10, 49, 20, 45, 51, 65, 21, 25, 11, 27, 12, 73, 48, 56, 55, 13, 29, 63, 30, 24, 65, 6, 29, 41, 50, 22, 30, 9, 50, 48, 55, 36, 74, 37, 60, 8, 18, 27, 16, 35, 20, 14, 45, 39, 62, 34, 36, 74, 32, 35, 38, 13, 48, 28, 19, 45, 38, 40, 69, 66, 7, 28, 55, 24, 8, 5, 57, 43, 66, 40, 47, 14, 17, 20, 29, 21, 28, 23, 25, 31, 49, 30, 26, 20, 29, 6, 18, 80, 3, 5, 40, 48, 32, 43, 32, 65, 39, 65, 26, 10, 51, 35, 69, 33, 50, 51, 75, 51, 29, 26, 35, 33, 35, 36, 59, 52, 39, 41, 30, 27, 35, 26, 23, 35, 28, 32, 72, 1, 38, 25, 32, 35, 25, 60, 60, 28, 35, 60, 13, 65, 51, 42, 33, 16, 65, 30, 54, 58, 54, 37, 43, 47, 25, 45, 30, 43, 50, 35, 25, 64, 23, 52, 59, 12, 65, 66, 37, 70, 1.5, 38, 26, 55, 67, 35, 36, 48, 22, 25, 60, 35, 44, 40, 30, 40, 38, 55, 26, 20, 2, 21, 55, 1, 55, 11, 50, 33, 33, 41, 25, 29, 45, 39, 6, 25, 18, 6, 28, 39, 68, 21, 48, 10, 50, 24, 36, 20, 9, 22, 38, 38, 26, 28, 22, 29, 26, 64, 32, 23, 28, 21, 65, 34, 17, 46, 37, 38, 34, 16, 60, 63, 45, 30, 50, 65, 48, 65, 42, 39, 50, 30, 32, 32, 26, 55, 50, 21, 43, 43, 47, 30, 36, 28, 58, 32, 55, 46, 20, 39, 23, 30, 28, 12, 18, 22, 25, 56, 24, 2, 30, 30, 36, 52, 48, 55, 57, 58, 66, 32, 2, 17, 13, 30, 50, 19, 40, 28, 32, 50, 58, 64, 24, 7, 36, 27, 25, 21, 28, 47, 10, 34, 38, 14, 27, 22, 25, 36, 27, 27, 34, 19, 17, 21, 23, 26, 45, 50, 14, 16, 18, 18, 19, 22, 50, 60, 60, 60, 34, 38, 12, 34, 26, 67, 18, 30, 29, 61, 80, 18, 26, 26, 25, 32, 12, 12, 39, 31, 60, 28, 34, 36, 20, 28, 34, 37, 54, 30, 29, 25, 64, 61, 31, 54, 39, 32, 42, 18, 23, 48, 20, 43, 18, 35, 40, 55, 35, 28, 32, 45, 42, 35, 54, 28, 46, 57, 35, 0.4, 26, 38, 39, 9, 33, 57, 58, 30, 25, 65, 0.3, 56, 32, 12, 36, 40, 16, 66, 24, 26, 34, 43, 55, 32, 32, 42, 24, 28, 35, 32, 50, 31, 68, 25, 49, 37, 36, 25, 29, 34, 45, 22, 40, 58, 54, 47, 33, 40, 46, 19, 45, 37, 70, 70, 24, 32, 25, 30, 13, 78, 30, 30, 22, 40, 30, 25, 37, 43, 24, 47, 28, 68, 61, 60, 30, 36, 48, 70, 80, 21, 41, 32, 55, 36, 35, 62, 35, 30, 37, 31, 85, 23, 46, 46, 3, 28, 65, 42, 24, 88, 34, 50, 26, 19, 17, 5, 30, 7, 33, 25, 27, 58, 4, 38, 44, 39, 47, 40, 34, 35, 40, 28, 44, 60, 70, 61, 41, 30, 26, 27, 33, 35, 24, 60, 33, 46, 60, 44, 23, 23, 48, 45, 30, 11, 29, 63, 38, 17, 4, 12, 17, 24, 35, 17, 18, 18, 20, 28, 20, 35, 8, 14, 23, 23, 24, 30, 57, 40, 10, 52, 70, 18, 48, 60, 49, 32, 10, 30, 22, 39, 35, 32, 23, 28, 46, 17, 26, 35, 31, 32, 24, 15, 36, 28, 38, 55, 6, 60, 14, 18, 30, 30, 46, 10, 10, 12, 20, 23, 25, 30, 35, 37, 38, 40, 29, 41, 24, 38, 14, 26, 60, 50, 27, 14, 26, 20, 22, 58, 38, 44, 30, 55, 32, 65, 17, 22, 41, 65, 35, 14, 12, 98, 40, 29, 38, 15, 30, 25, 11, 57, 75, 20, 45, 17, 19, 15, 22, 21, 29, 32, 52, 38, 35, 32, 58, 32, 22, 50, 29, 39, 21, 49, 72, 44, 58, 67, 43, 66, 45, 24, 58, 46, 30, 33, 42, 42, 20, 53, 44, 37, 36, 46, 50, 34, 59, 23, 78, 19, 60, 21, 43, 52, 33, 46, 64, 68, 40, 44, 18, 21, 15, 25, 1, 14, 35, 44, 50, 57, 64, 14, 12, 42, 57, 60, 62, 76, 25, 52, 55, 34, 37, 21, 17, 19, 28, 37, 45, 38, 80, 55, 42, 39, 18, 33, 50, 55, 60, 7, 51, 47, 20, 27, 55, 35, 20, 34, 48, 28, 42, 46, 15, 35, 50, 31, 35, 18, 52, 6, 90, 27, 20, 8, 30, 50, 27, 27, 66, 24, 17, 24, 60, 64, 64, 4, 20, 21, 8, 47, 46, 32, 48, 64, 24, 48, 19, 16, 24, 33, 32, 10, 51, 45, 7, 8, 27, 2, 48, 28, 36, 38, 27, 45, 61, 41, 72, 23, 45, 31, 25, 17, 15, 49, 52, 39, 26, 6, 9, 34, 61, 36, 47, 51, 38, 21, 33, 19, 76, 24, 34, 29, 44, 33, 79, 48, 26, 45, 15, 6, 45, 40, 35, 38, 42, 8, 21, 22, 38, 52, 23, 49, 57, 39, 50, 23, 60, 57, 47, 19, 60, 50, 60, 28, 32, 50, 54, 23, 26, 57, 27, 36, 24, 22, 39, 9, 44, 17, 68, 13, 39, 60, 29, 47, 42, 65, 34, 68, 55, 27, 24, 52, 25, 51, 56, 26, 37, 54, 65, 24, 8, 36, 33, 14, 8, 9, 11, 25, 43, 27, 55, 25, 48, 26, 5, 17, 29, 37, 40, 22, 70, 24, 18, 17, 20, 66, 24, 20, 47, 28, 65, 65, 7, 28, 20, 21, 37, 6, 17, 20, 66, 30, 41, 45, 60, 65, 32, 35, 26, 25, 12, 13, 17, 15, 55, 22, 23, 29, 27, 16, 16, 17, 18, 24, 35, 40, 19, 19, 30, 35, 40, 13, 50, 45, 80, 32, 21, 45, 27, 16, 45, 10, 7, 22, 45, 36, 35, 7, 27, 34, 30, 32, 65, 38, 24, 7, 2, 46, 40, 28, 50, 20, 20, 18, 20, 16, 31, 65, 8, 27, 22, 32]}, {\"name\": \"Recovered Patients\", \"type\": \"box\", \"y\": [20, 45, 24, 69, 55, 55, 55, 55, 55, 55, 55, 55, 55, 55, 55, 55, 70, 45, 16, 59, 45, 24, 54, 53, 65, 61, 46, 3, 48, 40, 47, 13, 96, 89, 85, 27, 26, 45, 32, 20, 67, 63, 18, 56, 25, 35, 35, 24, 21, 65, 34, 32, 23, 53, 35, 33, 22, 27, 64, 36, 27, 51, 48, 46, 21, 38, 41, 24, 22, 73, 23, 41, 32, 40, 65, 56, 47, 70, 23, 37, 63, 59, 26, 63, 69, 23, 24, 33, 35, 26, 36, 53, 1, 22, 23, 64, 18, 21, 21, 23, 70, 32, 38, 18, 21, 20, 38, 21, 42, 30, 45, 40, 48, 35, 40, 29, 58, 1, 51, 32, 34, 24, 35, 26]}],\n",
              "                        {\"template\": {\"data\": {\"bar\": [{\"error_x\": {\"color\": \"#2a3f5f\"}, \"error_y\": {\"color\": \"#2a3f5f\"}, \"marker\": {\"line\": {\"color\": \"#E5ECF6\", \"width\": 0.5}}, \"type\": \"bar\"}], \"barpolar\": [{\"marker\": {\"line\": {\"color\": \"#E5ECF6\", \"width\": 0.5}}, \"type\": \"barpolar\"}], \"carpet\": [{\"aaxis\": {\"endlinecolor\": \"#2a3f5f\", \"gridcolor\": \"white\", \"linecolor\": \"white\", \"minorgridcolor\": \"white\", \"startlinecolor\": \"#2a3f5f\"}, \"baxis\": {\"endlinecolor\": \"#2a3f5f\", \"gridcolor\": \"white\", \"linecolor\": \"white\", \"minorgridcolor\": \"white\", \"startlinecolor\": \"#2a3f5f\"}, \"type\": \"carpet\"}], \"choropleth\": [{\"colorbar\": {\"outlinewidth\": 0, \"ticks\": \"\"}, \"type\": \"choropleth\"}], \"contour\": [{\"colorbar\": {\"outlinewidth\": 0, \"ticks\": \"\"}, \"colorscale\": [[0.0, \"#0d0887\"], [0.1111111111111111, \"#46039f\"], [0.2222222222222222, \"#7201a8\"], [0.3333333333333333, \"#9c179e\"], [0.4444444444444444, \"#bd3786\"], [0.5555555555555556, \"#d8576b\"], [0.6666666666666666, \"#ed7953\"], [0.7777777777777778, \"#fb9f3a\"], [0.8888888888888888, \"#fdca26\"], [1.0, \"#f0f921\"]], \"type\": \"contour\"}], \"contourcarpet\": [{\"colorbar\": {\"outlinewidth\": 0, \"ticks\": \"\"}, \"type\": \"contourcarpet\"}], \"heatmap\": [{\"colorbar\": {\"outlinewidth\": 0, \"ticks\": \"\"}, \"colorscale\": [[0.0, \"#0d0887\"], [0.1111111111111111, \"#46039f\"], [0.2222222222222222, \"#7201a8\"], [0.3333333333333333, \"#9c179e\"], [0.4444444444444444, \"#bd3786\"], [0.5555555555555556, \"#d8576b\"], [0.6666666666666666, \"#ed7953\"], [0.7777777777777778, \"#fb9f3a\"], [0.8888888888888888, \"#fdca26\"], [1.0, \"#f0f921\"]], \"type\": \"heatmap\"}], \"heatmapgl\": [{\"colorbar\": {\"outlinewidth\": 0, \"ticks\": \"\"}, \"colorscale\": [[0.0, \"#0d0887\"], [0.1111111111111111, \"#46039f\"], [0.2222222222222222, \"#7201a8\"], [0.3333333333333333, \"#9c179e\"], [0.4444444444444444, \"#bd3786\"], [0.5555555555555556, \"#d8576b\"], [0.6666666666666666, \"#ed7953\"], [0.7777777777777778, \"#fb9f3a\"], [0.8888888888888888, \"#fdca26\"], [1.0, \"#f0f921\"]], \"type\": \"heatmapgl\"}], \"histogram\": [{\"marker\": {\"colorbar\": {\"outlinewidth\": 0, \"ticks\": \"\"}}, \"type\": \"histogram\"}], \"histogram2d\": [{\"colorbar\": {\"outlinewidth\": 0, \"ticks\": \"\"}, \"colorscale\": [[0.0, \"#0d0887\"], [0.1111111111111111, \"#46039f\"], [0.2222222222222222, \"#7201a8\"], [0.3333333333333333, \"#9c179e\"], [0.4444444444444444, \"#bd3786\"], [0.5555555555555556, \"#d8576b\"], [0.6666666666666666, \"#ed7953\"], [0.7777777777777778, \"#fb9f3a\"], [0.8888888888888888, \"#fdca26\"], [1.0, \"#f0f921\"]], \"type\": \"histogram2d\"}], \"histogram2dcontour\": [{\"colorbar\": {\"outlinewidth\": 0, \"ticks\": \"\"}, \"colorscale\": [[0.0, \"#0d0887\"], [0.1111111111111111, \"#46039f\"], [0.2222222222222222, \"#7201a8\"], [0.3333333333333333, \"#9c179e\"], [0.4444444444444444, \"#bd3786\"], [0.5555555555555556, \"#d8576b\"], [0.6666666666666666, \"#ed7953\"], [0.7777777777777778, \"#fb9f3a\"], [0.8888888888888888, \"#fdca26\"], [1.0, \"#f0f921\"]], \"type\": \"histogram2dcontour\"}], \"mesh3d\": [{\"colorbar\": {\"outlinewidth\": 0, \"ticks\": \"\"}, \"type\": \"mesh3d\"}], \"parcoords\": [{\"line\": {\"colorbar\": {\"outlinewidth\": 0, \"ticks\": \"\"}}, \"type\": \"parcoords\"}], \"pie\": [{\"automargin\": true, \"type\": \"pie\"}], \"scatter\": [{\"marker\": {\"colorbar\": {\"outlinewidth\": 0, \"ticks\": \"\"}}, \"type\": \"scatter\"}], \"scatter3d\": [{\"line\": {\"colorbar\": {\"outlinewidth\": 0, \"ticks\": \"\"}}, \"marker\": {\"colorbar\": {\"outlinewidth\": 0, \"ticks\": \"\"}}, \"type\": \"scatter3d\"}], \"scattercarpet\": [{\"marker\": {\"colorbar\": {\"outlinewidth\": 0, \"ticks\": \"\"}}, \"type\": \"scattercarpet\"}], \"scattergeo\": [{\"marker\": {\"colorbar\": {\"outlinewidth\": 0, \"ticks\": \"\"}}, \"type\": \"scattergeo\"}], \"scattergl\": [{\"marker\": {\"colorbar\": {\"outlinewidth\": 0, \"ticks\": \"\"}}, \"type\": \"scattergl\"}], \"scattermapbox\": [{\"marker\": {\"colorbar\": {\"outlinewidth\": 0, \"ticks\": \"\"}}, \"type\": \"scattermapbox\"}], \"scatterpolar\": [{\"marker\": {\"colorbar\": {\"outlinewidth\": 0, \"ticks\": \"\"}}, \"type\": \"scatterpolar\"}], \"scatterpolargl\": [{\"marker\": {\"colorbar\": {\"outlinewidth\": 0, \"ticks\": \"\"}}, \"type\": \"scatterpolargl\"}], \"scatterternary\": [{\"marker\": {\"colorbar\": {\"outlinewidth\": 0, \"ticks\": \"\"}}, \"type\": \"scatterternary\"}], \"surface\": [{\"colorbar\": {\"outlinewidth\": 0, \"ticks\": \"\"}, \"colorscale\": [[0.0, \"#0d0887\"], [0.1111111111111111, \"#46039f\"], [0.2222222222222222, \"#7201a8\"], [0.3333333333333333, \"#9c179e\"], [0.4444444444444444, \"#bd3786\"], [0.5555555555555556, \"#d8576b\"], [0.6666666666666666, \"#ed7953\"], [0.7777777777777778, \"#fb9f3a\"], [0.8888888888888888, \"#fdca26\"], [1.0, \"#f0f921\"]], \"type\": \"surface\"}], \"table\": [{\"cells\": {\"fill\": {\"color\": \"#EBF0F8\"}, \"line\": {\"color\": \"white\"}}, \"header\": {\"fill\": {\"color\": \"#C8D4E3\"}, \"line\": {\"color\": \"white\"}}, \"type\": \"table\"}]}, \"layout\": {\"annotationdefaults\": {\"arrowcolor\": \"#2a3f5f\", \"arrowhead\": 0, \"arrowwidth\": 1}, \"coloraxis\": {\"colorbar\": {\"outlinewidth\": 0, \"ticks\": \"\"}}, \"colorscale\": {\"diverging\": [[0, \"#8e0152\"], [0.1, \"#c51b7d\"], [0.2, \"#de77ae\"], [0.3, \"#f1b6da\"], [0.4, \"#fde0ef\"], [0.5, \"#f7f7f7\"], [0.6, \"#e6f5d0\"], [0.7, \"#b8e186\"], [0.8, \"#7fbc41\"], [0.9, \"#4d9221\"], [1, \"#276419\"]], \"sequential\": [[0.0, \"#0d0887\"], [0.1111111111111111, \"#46039f\"], [0.2222222222222222, \"#7201a8\"], [0.3333333333333333, \"#9c179e\"], [0.4444444444444444, \"#bd3786\"], [0.5555555555555556, \"#d8576b\"], [0.6666666666666666, \"#ed7953\"], [0.7777777777777778, \"#fb9f3a\"], [0.8888888888888888, \"#fdca26\"], [1.0, \"#f0f921\"]], \"sequentialminus\": [[0.0, \"#0d0887\"], [0.1111111111111111, \"#46039f\"], [0.2222222222222222, \"#7201a8\"], [0.3333333333333333, \"#9c179e\"], [0.4444444444444444, \"#bd3786\"], [0.5555555555555556, \"#d8576b\"], [0.6666666666666666, \"#ed7953\"], [0.7777777777777778, \"#fb9f3a\"], [0.8888888888888888, \"#fdca26\"], [1.0, \"#f0f921\"]]}, \"colorway\": [\"#636efa\", \"#EF553B\", \"#00cc96\", \"#ab63fa\", \"#FFA15A\", \"#19d3f3\", \"#FF6692\", \"#B6E880\", \"#FF97FF\", \"#FECB52\"], \"font\": {\"color\": \"#2a3f5f\"}, \"geo\": {\"bgcolor\": \"white\", \"lakecolor\": \"white\", \"landcolor\": \"#E5ECF6\", \"showlakes\": true, \"showland\": true, \"subunitcolor\": \"white\"}, \"hoverlabel\": {\"align\": \"left\"}, \"hovermode\": \"closest\", \"mapbox\": {\"style\": \"light\"}, \"paper_bgcolor\": \"white\", \"plot_bgcolor\": \"#E5ECF6\", \"polar\": {\"angularaxis\": {\"gridcolor\": \"white\", \"linecolor\": \"white\", \"ticks\": \"\"}, \"bgcolor\": \"#E5ECF6\", \"radialaxis\": {\"gridcolor\": \"white\", \"linecolor\": \"white\", \"ticks\": \"\"}}, \"scene\": {\"xaxis\": {\"backgroundcolor\": \"#E5ECF6\", \"gridcolor\": \"white\", \"gridwidth\": 2, \"linecolor\": \"white\", \"showbackground\": true, \"ticks\": \"\", \"zerolinecolor\": \"white\"}, \"yaxis\": {\"backgroundcolor\": \"#E5ECF6\", \"gridcolor\": \"white\", \"gridwidth\": 2, \"linecolor\": \"white\", \"showbackground\": true, \"ticks\": \"\", \"zerolinecolor\": \"white\"}, \"zaxis\": {\"backgroundcolor\": \"#E5ECF6\", \"gridcolor\": \"white\", \"gridwidth\": 2, \"linecolor\": \"white\", \"showbackground\": true, \"ticks\": \"\", \"zerolinecolor\": \"white\"}}, \"shapedefaults\": {\"line\": {\"color\": \"#2a3f5f\"}}, \"ternary\": {\"aaxis\": {\"gridcolor\": \"white\", \"linecolor\": \"white\", \"ticks\": \"\"}, \"baxis\": {\"gridcolor\": \"white\", \"linecolor\": \"white\", \"ticks\": \"\"}, \"bgcolor\": \"#E5ECF6\", \"caxis\": {\"gridcolor\": \"white\", \"linecolor\": \"white\", \"ticks\": \"\"}}, \"title\": {\"x\": 0.05}, \"xaxis\": {\"automargin\": true, \"gridcolor\": \"white\", \"linecolor\": \"white\", \"ticks\": \"\", \"title\": {\"standoff\": 15}, \"zerolinecolor\": \"white\", \"zerolinewidth\": 2}, \"yaxis\": {\"automargin\": true, \"gridcolor\": \"white\", \"linecolor\": \"white\", \"ticks\": \"\", \"title\": {\"standoff\": 15}, \"zerolinecolor\": \"white\", \"zerolinewidth\": 2}}}, \"title\": {\"text\": \"Indian COVID-19 Patients Outcome Age-Wise\"}},\n",
              "                        {\"responsive\": true}\n",
              "                    ).then(function(){\n",
              "                            \n",
              "var gd = document.getElementById('b02b7375-440e-4271-8736-3b52b581d89e');\n",
              "var x = new MutationObserver(function (mutations, observer) {{\n",
              "        var display = window.getComputedStyle(gd).display;\n",
              "        if (!display || display === 'none') {{\n",
              "            console.log([gd, 'removed!']);\n",
              "            Plotly.purge(gd);\n",
              "            observer.disconnect();\n",
              "        }}\n",
              "}});\n",
              "\n",
              "// Listen for the removal of the full notebook cells\n",
              "var notebookContainer = gd.closest('#notebook-container');\n",
              "if (notebookContainer) {{\n",
              "    x.observe(notebookContainer, {childList: true});\n",
              "}}\n",
              "\n",
              "// Listen for the clearing of the current output cell\n",
              "var outputEl = gd.closest('.output');\n",
              "if (outputEl) {{\n",
              "    x.observe(outputEl, {childList: true});\n",
              "}}\n",
              "\n",
              "                        })\n",
              "                };\n",
              "                \n",
              "            </script>\n",
              "        </div>\n",
              "</body>\n",
              "</html>"
            ]
          },
          "metadata": {}
        }
      ]
    },
    {
      "cell_type": "code",
      "metadata": {
        "id": "0M7LYf6q6yOH"
      },
      "source": [
        "pep_no_trav_his = df_indi[df_indi['notes'].str.contains('Travel') == False]\n",
        "pep_with_trav_his = df_indi[df_indi['notes'].str.contains('Travel') == True]"
      ],
      "execution_count": null,
      "outputs": []
    },
    {
      "cell_type": "code",
      "metadata": {
        "colab": {
          "base_uri": "https://localhost:8080/"
        },
        "id": "mctiQl4A614z",
        "outputId": "b816bd32-3e62-41d4-ecb4-7bf618839229"
      },
      "source": [
        "\n",
        "\n",
        "df_indi['id'].nunique(), pep_no_trav_his['id'].nunique()"
      ],
      "execution_count": null,
      "outputs": [
        {
          "output_type": "execute_result",
          "data": {
            "text/plain": [
              "(2406, 1677)"
            ]
          },
          "metadata": {},
          "execution_count": 19
        }
      ]
    },
    {
      "cell_type": "code",
      "metadata": {
        "colab": {
          "base_uri": "https://localhost:8080/",
          "height": 542
        },
        "id": "zf8RA_lm68is",
        "outputId": "63538eda-64da-4844-b0e5-1b3beaac584f"
      },
      "source": [
        "colors = ['#B5B200', '#1300B5']\n",
        "negative = round(pep_no_trav_his['id'].nunique()/df_indi['id'].nunique()*100, 2)\n",
        "positive = round(pep_with_trav_his['id'].nunique()/df_indi['id'].nunique()*100, 2)\n",
        "                         \n",
        "fig = px.pie(pep_no_trav_his, values=[negative, positive], names=['Patients w/o Travel History', 'Patients with Travel History'], \\\n",
        "             title='Patients with and without Travel History')\n",
        "fig.show()"
      ],
      "execution_count": null,
      "outputs": [
        {
          "output_type": "display_data",
          "data": {
            "text/html": [
              "<html>\n",
              "<head><meta charset=\"utf-8\" /></head>\n",
              "<body>\n",
              "    <div>\n",
              "            <script src=\"https://cdnjs.cloudflare.com/ajax/libs/mathjax/2.7.5/MathJax.js?config=TeX-AMS-MML_SVG\"></script><script type=\"text/javascript\">if (window.MathJax) {MathJax.Hub.Config({SVG: {font: \"STIX-Web\"}});}</script>\n",
              "                <script type=\"text/javascript\">window.PlotlyConfig = {MathJaxConfig: 'local'};</script>\n",
              "        <script src=\"https://cdn.plot.ly/plotly-latest.min.js\"></script>    \n",
              "            <div id=\"ae41275b-47d7-40e8-860d-5d2f1d73020b\" class=\"plotly-graph-div\" style=\"height:525px; width:100%;\"></div>\n",
              "            <script type=\"text/javascript\">\n",
              "                \n",
              "                    window.PLOTLYENV=window.PLOTLYENV || {};\n",
              "                    \n",
              "                if (document.getElementById(\"ae41275b-47d7-40e8-860d-5d2f1d73020b\")) {\n",
              "                    Plotly.newPlot(\n",
              "                        'ae41275b-47d7-40e8-860d-5d2f1d73020b',\n",
              "                        [{\"domain\": {\"x\": [0.0, 1.0], \"y\": [0.0, 1.0]}, \"hoverlabel\": {\"namelength\": 0}, \"hovertemplate\": \"label=%{label}<br>value=%{value}\", \"labels\": [\"Patients w/o Travel History\", \"Patients with Travel History\"], \"legendgroup\": \"\", \"name\": \"\", \"showlegend\": true, \"type\": \"pie\", \"values\": [69.7, 26.64]}],\n",
              "                        {\"legend\": {\"tracegroupgap\": 0}, \"template\": {\"data\": {\"bar\": [{\"error_x\": {\"color\": \"#2a3f5f\"}, \"error_y\": {\"color\": \"#2a3f5f\"}, \"marker\": {\"line\": {\"color\": \"#E5ECF6\", \"width\": 0.5}}, \"type\": \"bar\"}], \"barpolar\": [{\"marker\": {\"line\": {\"color\": \"#E5ECF6\", \"width\": 0.5}}, \"type\": \"barpolar\"}], \"carpet\": [{\"aaxis\": {\"endlinecolor\": \"#2a3f5f\", \"gridcolor\": \"white\", \"linecolor\": \"white\", \"minorgridcolor\": \"white\", \"startlinecolor\": \"#2a3f5f\"}, \"baxis\": {\"endlinecolor\": \"#2a3f5f\", \"gridcolor\": \"white\", \"linecolor\": \"white\", \"minorgridcolor\": \"white\", \"startlinecolor\": \"#2a3f5f\"}, \"type\": \"carpet\"}], \"choropleth\": [{\"colorbar\": {\"outlinewidth\": 0, \"ticks\": \"\"}, \"type\": \"choropleth\"}], \"contour\": [{\"colorbar\": {\"outlinewidth\": 0, \"ticks\": \"\"}, \"colorscale\": [[0.0, \"#0d0887\"], [0.1111111111111111, \"#46039f\"], [0.2222222222222222, \"#7201a8\"], [0.3333333333333333, \"#9c179e\"], [0.4444444444444444, \"#bd3786\"], [0.5555555555555556, \"#d8576b\"], [0.6666666666666666, \"#ed7953\"], [0.7777777777777778, \"#fb9f3a\"], [0.8888888888888888, \"#fdca26\"], [1.0, \"#f0f921\"]], \"type\": \"contour\"}], \"contourcarpet\": [{\"colorbar\": {\"outlinewidth\": 0, \"ticks\": \"\"}, \"type\": \"contourcarpet\"}], \"heatmap\": [{\"colorbar\": {\"outlinewidth\": 0, \"ticks\": \"\"}, \"colorscale\": [[0.0, \"#0d0887\"], [0.1111111111111111, \"#46039f\"], [0.2222222222222222, \"#7201a8\"], [0.3333333333333333, \"#9c179e\"], [0.4444444444444444, \"#bd3786\"], [0.5555555555555556, \"#d8576b\"], [0.6666666666666666, \"#ed7953\"], [0.7777777777777778, \"#fb9f3a\"], [0.8888888888888888, \"#fdca26\"], [1.0, \"#f0f921\"]], \"type\": \"heatmap\"}], \"heatmapgl\": [{\"colorbar\": {\"outlinewidth\": 0, \"ticks\": \"\"}, \"colorscale\": [[0.0, \"#0d0887\"], [0.1111111111111111, \"#46039f\"], [0.2222222222222222, \"#7201a8\"], [0.3333333333333333, \"#9c179e\"], [0.4444444444444444, \"#bd3786\"], [0.5555555555555556, \"#d8576b\"], [0.6666666666666666, \"#ed7953\"], [0.7777777777777778, \"#fb9f3a\"], [0.8888888888888888, \"#fdca26\"], [1.0, \"#f0f921\"]], \"type\": \"heatmapgl\"}], \"histogram\": [{\"marker\": {\"colorbar\": {\"outlinewidth\": 0, \"ticks\": \"\"}}, \"type\": \"histogram\"}], \"histogram2d\": [{\"colorbar\": {\"outlinewidth\": 0, \"ticks\": \"\"}, \"colorscale\": [[0.0, \"#0d0887\"], [0.1111111111111111, \"#46039f\"], [0.2222222222222222, \"#7201a8\"], [0.3333333333333333, \"#9c179e\"], [0.4444444444444444, \"#bd3786\"], [0.5555555555555556, \"#d8576b\"], [0.6666666666666666, \"#ed7953\"], [0.7777777777777778, \"#fb9f3a\"], [0.8888888888888888, \"#fdca26\"], [1.0, \"#f0f921\"]], \"type\": \"histogram2d\"}], \"histogram2dcontour\": [{\"colorbar\": {\"outlinewidth\": 0, \"ticks\": \"\"}, \"colorscale\": [[0.0, \"#0d0887\"], [0.1111111111111111, \"#46039f\"], [0.2222222222222222, \"#7201a8\"], [0.3333333333333333, \"#9c179e\"], [0.4444444444444444, \"#bd3786\"], [0.5555555555555556, \"#d8576b\"], [0.6666666666666666, \"#ed7953\"], [0.7777777777777778, \"#fb9f3a\"], [0.8888888888888888, \"#fdca26\"], [1.0, \"#f0f921\"]], \"type\": \"histogram2dcontour\"}], \"mesh3d\": [{\"colorbar\": {\"outlinewidth\": 0, \"ticks\": \"\"}, \"type\": \"mesh3d\"}], \"parcoords\": [{\"line\": {\"colorbar\": {\"outlinewidth\": 0, \"ticks\": \"\"}}, \"type\": \"parcoords\"}], \"pie\": [{\"automargin\": true, \"type\": \"pie\"}], \"scatter\": [{\"marker\": {\"colorbar\": {\"outlinewidth\": 0, \"ticks\": \"\"}}, \"type\": \"scatter\"}], \"scatter3d\": [{\"line\": {\"colorbar\": {\"outlinewidth\": 0, \"ticks\": \"\"}}, \"marker\": {\"colorbar\": {\"outlinewidth\": 0, \"ticks\": \"\"}}, \"type\": \"scatter3d\"}], \"scattercarpet\": [{\"marker\": {\"colorbar\": {\"outlinewidth\": 0, \"ticks\": \"\"}}, \"type\": \"scattercarpet\"}], \"scattergeo\": [{\"marker\": {\"colorbar\": {\"outlinewidth\": 0, \"ticks\": \"\"}}, \"type\": \"scattergeo\"}], \"scattergl\": [{\"marker\": {\"colorbar\": {\"outlinewidth\": 0, \"ticks\": \"\"}}, \"type\": \"scattergl\"}], \"scattermapbox\": [{\"marker\": {\"colorbar\": {\"outlinewidth\": 0, \"ticks\": \"\"}}, \"type\": \"scattermapbox\"}], \"scatterpolar\": [{\"marker\": {\"colorbar\": {\"outlinewidth\": 0, \"ticks\": \"\"}}, \"type\": \"scatterpolar\"}], \"scatterpolargl\": [{\"marker\": {\"colorbar\": {\"outlinewidth\": 0, \"ticks\": \"\"}}, \"type\": \"scatterpolargl\"}], \"scatterternary\": [{\"marker\": {\"colorbar\": {\"outlinewidth\": 0, \"ticks\": \"\"}}, \"type\": \"scatterternary\"}], \"surface\": [{\"colorbar\": {\"outlinewidth\": 0, \"ticks\": \"\"}, \"colorscale\": [[0.0, \"#0d0887\"], [0.1111111111111111, \"#46039f\"], [0.2222222222222222, \"#7201a8\"], [0.3333333333333333, \"#9c179e\"], [0.4444444444444444, \"#bd3786\"], [0.5555555555555556, \"#d8576b\"], [0.6666666666666666, \"#ed7953\"], [0.7777777777777778, \"#fb9f3a\"], [0.8888888888888888, \"#fdca26\"], [1.0, \"#f0f921\"]], \"type\": \"surface\"}], \"table\": [{\"cells\": {\"fill\": {\"color\": \"#EBF0F8\"}, \"line\": {\"color\": \"white\"}}, \"header\": {\"fill\": {\"color\": \"#C8D4E3\"}, \"line\": {\"color\": \"white\"}}, \"type\": \"table\"}]}, \"layout\": {\"annotationdefaults\": {\"arrowcolor\": \"#2a3f5f\", \"arrowhead\": 0, \"arrowwidth\": 1}, \"coloraxis\": {\"colorbar\": {\"outlinewidth\": 0, \"ticks\": \"\"}}, \"colorscale\": {\"diverging\": [[0, \"#8e0152\"], [0.1, \"#c51b7d\"], [0.2, \"#de77ae\"], [0.3, \"#f1b6da\"], [0.4, \"#fde0ef\"], [0.5, \"#f7f7f7\"], [0.6, \"#e6f5d0\"], [0.7, \"#b8e186\"], [0.8, \"#7fbc41\"], [0.9, \"#4d9221\"], [1, \"#276419\"]], \"sequential\": [[0.0, \"#0d0887\"], [0.1111111111111111, \"#46039f\"], [0.2222222222222222, \"#7201a8\"], [0.3333333333333333, \"#9c179e\"], [0.4444444444444444, \"#bd3786\"], [0.5555555555555556, \"#d8576b\"], [0.6666666666666666, \"#ed7953\"], [0.7777777777777778, \"#fb9f3a\"], [0.8888888888888888, \"#fdca26\"], [1.0, \"#f0f921\"]], \"sequentialminus\": [[0.0, \"#0d0887\"], [0.1111111111111111, \"#46039f\"], [0.2222222222222222, \"#7201a8\"], [0.3333333333333333, \"#9c179e\"], [0.4444444444444444, \"#bd3786\"], [0.5555555555555556, \"#d8576b\"], [0.6666666666666666, \"#ed7953\"], [0.7777777777777778, \"#fb9f3a\"], [0.8888888888888888, \"#fdca26\"], [1.0, \"#f0f921\"]]}, \"colorway\": [\"#636efa\", \"#EF553B\", \"#00cc96\", \"#ab63fa\", \"#FFA15A\", \"#19d3f3\", \"#FF6692\", \"#B6E880\", \"#FF97FF\", \"#FECB52\"], \"font\": {\"color\": \"#2a3f5f\"}, \"geo\": {\"bgcolor\": \"white\", \"lakecolor\": \"white\", \"landcolor\": \"#E5ECF6\", \"showlakes\": true, \"showland\": true, \"subunitcolor\": \"white\"}, \"hoverlabel\": {\"align\": \"left\"}, \"hovermode\": \"closest\", \"mapbox\": {\"style\": \"light\"}, \"paper_bgcolor\": \"white\", \"plot_bgcolor\": \"#E5ECF6\", \"polar\": {\"angularaxis\": {\"gridcolor\": \"white\", \"linecolor\": \"white\", \"ticks\": \"\"}, \"bgcolor\": \"#E5ECF6\", \"radialaxis\": {\"gridcolor\": \"white\", \"linecolor\": \"white\", \"ticks\": \"\"}}, \"scene\": {\"xaxis\": {\"backgroundcolor\": \"#E5ECF6\", \"gridcolor\": \"white\", \"gridwidth\": 2, \"linecolor\": \"white\", \"showbackground\": true, \"ticks\": \"\", \"zerolinecolor\": \"white\"}, \"yaxis\": {\"backgroundcolor\": \"#E5ECF6\", \"gridcolor\": \"white\", \"gridwidth\": 2, \"linecolor\": \"white\", \"showbackground\": true, \"ticks\": \"\", \"zerolinecolor\": \"white\"}, \"zaxis\": {\"backgroundcolor\": \"#E5ECF6\", \"gridcolor\": \"white\", \"gridwidth\": 2, \"linecolor\": \"white\", \"showbackground\": true, \"ticks\": \"\", \"zerolinecolor\": \"white\"}}, \"shapedefaults\": {\"line\": {\"color\": \"#2a3f5f\"}}, \"ternary\": {\"aaxis\": {\"gridcolor\": \"white\", \"linecolor\": \"white\", \"ticks\": \"\"}, \"baxis\": {\"gridcolor\": \"white\", \"linecolor\": \"white\", \"ticks\": \"\"}, \"bgcolor\": \"#E5ECF6\", \"caxis\": {\"gridcolor\": \"white\", \"linecolor\": \"white\", \"ticks\": \"\"}}, \"title\": {\"x\": 0.05}, \"xaxis\": {\"automargin\": true, \"gridcolor\": \"white\", \"linecolor\": \"white\", \"ticks\": \"\", \"title\": {\"standoff\": 15}, \"zerolinecolor\": \"white\", \"zerolinewidth\": 2}, \"yaxis\": {\"automargin\": true, \"gridcolor\": \"white\", \"linecolor\": \"white\", \"ticks\": \"\", \"title\": {\"standoff\": 15}, \"zerolinecolor\": \"white\", \"zerolinewidth\": 2}}}, \"title\": {\"text\": \"Patients with and without Travel History\"}},\n",
              "                        {\"responsive\": true}\n",
              "                    ).then(function(){\n",
              "                            \n",
              "var gd = document.getElementById('ae41275b-47d7-40e8-860d-5d2f1d73020b');\n",
              "var x = new MutationObserver(function (mutations, observer) {{\n",
              "        var display = window.getComputedStyle(gd).display;\n",
              "        if (!display || display === 'none') {{\n",
              "            console.log([gd, 'removed!']);\n",
              "            Plotly.purge(gd);\n",
              "            observer.disconnect();\n",
              "        }}\n",
              "}});\n",
              "\n",
              "// Listen for the removal of the full notebook cells\n",
              "var notebookContainer = gd.closest('#notebook-container');\n",
              "if (notebookContainer) {{\n",
              "    x.observe(notebookContainer, {childList: true});\n",
              "}}\n",
              "\n",
              "// Listen for the clearing of the current output cell\n",
              "var outputEl = gd.closest('.output');\n",
              "if (outputEl) {{\n",
              "    x.observe(outputEl, {childList: true});\n",
              "}}\n",
              "\n",
              "                        })\n",
              "                };\n",
              "                \n",
              "            </script>\n",
              "        </div>\n",
              "</body>\n",
              "</html>"
            ]
          },
          "metadata": {}
        }
      ]
    },
    {
      "cell_type": "code",
      "metadata": {
        "id": "AFj4n79l7XSc"
      },
      "source": [
        "df_ind_rate = pd.read_excel('/content/gdrive/MyDrive/covid-complete/COVID19 India Complete Dataset May 2020.xlsx', sheet_name='ICMR Testing Count')\n",
        "df_ind_rate = df_ind_rate.dropna(subset=['Total Positive Cases']).reset_index(drop=True)\n",
        "df_ind_rate['Total Individuals Tested'].fillna(df_ind_rate['Total Samples Tested']-900, inplace=True)\n",
        "df_ind_rate['positive_percentage'] = round(df_ind_rate['Total Positive Cases']/df_ind_rate['Total Individuals Tested'], 5)\n",
        "df_ind_rate_count = pd.DataFrame(['India']).rename(columns={0:'Country'})\n",
        "df_ind_rate_count['positive_percentage_mean'] = round(df_ind_rate.loc[len(df_ind_rate)-1]['positive_percentage']*100, 2)"
      ],
      "execution_count": null,
      "outputs": []
    },
    {
      "cell_type": "code",
      "metadata": {
        "id": "lfBxtbLI8pAW"
      },
      "source": [
        ""
      ],
      "execution_count": null,
      "outputs": []
    },
    {
      "cell_type": "markdown",
      "metadata": {
        "id": "TVBlwy2DtXQ5"
      },
      "source": [
        ""
      ]
    },
    {
      "cell_type": "code",
      "metadata": {
        "colab": {
          "base_uri": "https://localhost:8080/",
          "height": 166
        },
        "id": "B6qWm4gU7it7",
        "outputId": "ba5c26e0-64fc-4414-9f94-9a894565b84c"
      },
      "source": [
        "df_rate = pd.concat([df_rate, df_ind_rate_count], ignore_index=True)"
      ],
      "execution_count": null,
      "outputs": [
        {
          "output_type": "error",
          "ename": "NameError",
          "evalue": "ignored",
          "traceback": [
            "\u001b[0;31m---------------------------------------------------------------------------\u001b[0m",
            "\u001b[0;31mNameError\u001b[0m                                 Traceback (most recent call last)",
            "\u001b[0;32m<ipython-input-23-11e67e804772>\u001b[0m in \u001b[0;36m<module>\u001b[0;34m()\u001b[0m\n\u001b[0;32m----> 1\u001b[0;31m \u001b[0mdf_rate\u001b[0m \u001b[0;34m=\u001b[0m \u001b[0mpd\u001b[0m\u001b[0;34m.\u001b[0m\u001b[0mconcat\u001b[0m\u001b[0;34m(\u001b[0m\u001b[0;34m[\u001b[0m\u001b[0mdf_rate\u001b[0m\u001b[0;34m,\u001b[0m \u001b[0mdf_ind_rate_count\u001b[0m\u001b[0;34m]\u001b[0m\u001b[0;34m,\u001b[0m \u001b[0mignore_index\u001b[0m\u001b[0;34m=\u001b[0m\u001b[0;32mTrue\u001b[0m\u001b[0;34m)\u001b[0m\u001b[0;34m\u001b[0m\u001b[0;34m\u001b[0m\u001b[0m\n\u001b[0m",
            "\u001b[0;31mNameError\u001b[0m: name 'df_rate' is not defined"
          ]
        }
      ]
    },
    {
      "cell_type": "code",
      "metadata": {
        "colab": {
          "base_uri": "https://localhost:8080/",
          "height": 623
        },
        "id": "THzKJbyh8pwN",
        "outputId": "8a5218dc-c2c8-475b-e8c8-ee0435dabbcb"
      },
      "source": [
        "# Total population, N.\n",
        "N = 1080000 # considering the a rough estimate of 10 lakhs as population of India who might have been exposed because 135 crore,\n",
        "            \n",
        "# Initial number of infected and recovered individuals, I0 and R0.\n",
        "I0, R0 = 102, 19 # till India crossed 100 cases\n",
        "# Everyone else, S0, is susceptible to infection initially.\n",
        "S0 = N - I0 - R0\n",
        "# Contact rate, beta, and mean recovery rate, gamma, (in 1/days).\n",
        "beta, gamma = 2.4, 1./35 # considering Beta & Gamma value based on China's & Europe situation\n",
        "# A grid of time points (in days)\n",
        "t = np.linspace(0, 30, 30)\n",
        "\n",
        "# The SIR model differential equations.\n",
        "def deriv(y, t, N, beta, gamma):\n",
        "    S, I, R = y\n",
        "    dSdt = -beta * S * I / N\n",
        "    dIdt = beta * S * I / N - gamma * I\n",
        "    dRdt = gamma * I\n",
        "    return dSdt, dIdt, dRdt\n",
        "\n",
        "# Initial conditions vector\n",
        "y0 = S0, I0, R0\n",
        "# Integrate the SIR equations over the time grid, t.\n",
        "ret = odeint(deriv, y0, t, args=(N, beta, gamma))\n",
        "S, I, R = ret.T\n",
        "\n",
        "# Plot the data on three separate curves for S(t), I(t) and R(t)\n",
        "fig = plt.figure(facecolor='w', figsize=(12,10))\n",
        "ax = fig.add_subplot(111, axisbelow=True)\n",
        "ax.plot(t, S, 'b', alpha=0.5, lw=2, label='Susceptible')\n",
        "ax.plot(t, I, 'r', alpha=0.5, lw=2, label='Infected')\n",
        "ax.plot(t, R, 'g', alpha=0.5, lw=2, label='Recovered with immunity')\n",
        "ax.set_xlabel('Time in Days', size=13)\n",
        "ax.set_ylabel('Number of People', size=13)\n",
        "# ax.set_ylim(0,1.2)\n",
        "ax.yaxis.set_tick_params(length=0)\n",
        "ax.xaxis.set_tick_params(length=0)\n",
        "ax.grid(b=True, which='major', c='w', lw=2, ls='-')\n",
        "legend = ax.legend()\n",
        "ax.set_facecolor('#dddddd')\n",
        "legend.get_frame().set_alpha(0.5)\n",
        "for spine in ('top', 'right', 'bottom', 'left'):\n",
        "    ax.spines[spine].set_visible(False)\n",
        "ax.set_title('Potential COVID-19 Scenario from 14th March for next 30 days in India without lockdown', size=15)\n",
        "plt.show()"
      ],
      "execution_count": null,
      "outputs": [
        {
          "output_type": "display_data",
          "data": {
            "image/png": "[encoded data removed]",
            "text/plain": [
              "<Figure size 864x720 with 1 Axes>"
            ]
          },
          "metadata": {}
        }
      ]
    },
    {
      "cell_type": "code",
      "metadata": {
        "colab": {
          "base_uri": "https://localhost:8080/",
          "height": 112
        },
        "id": "9gzgIpZZ8up8",
        "outputId": "05c744fd-e013-48f4-c348-bb5706eeafcc"
      },
      "source": [
        "dbd_tc_india.head(2)"
      ],
      "execution_count": null,
      "outputs": [
        {
          "output_type": "execute_result",
          "data": {
            "text/html": [
              "<div>\n",
              "<style scoped>\n",
              "    .dataframe tbody tr th:only-of-type {\n",
              "        vertical-align: middle;\n",
              "    }\n",
              "\n",
              "    .dataframe tbody tr th {\n",
              "        vertical-align: top;\n",
              "    }\n",
              "\n",
              "    .dataframe thead th {\n",
              "        text-align: right;\n",
              "    }\n",
              "</style>\n",
              "<table border=\"1\" class=\"dataframe\">\n",
              "  <thead>\n",
              "    <tr style=\"text-align: right;\">\n",
              "      <th></th>\n",
              "      <th>Date</th>\n",
              "      <th>Daily Confirmed</th>\n",
              "      <th>Total Confirmed</th>\n",
              "      <th>Daily Recovered</th>\n",
              "      <th>Total Recovered</th>\n",
              "      <th>Daily Deceased</th>\n",
              "      <th>Total Deceased</th>\n",
              "    </tr>\n",
              "  </thead>\n",
              "  <tbody>\n",
              "    <tr>\n",
              "      <th>0</th>\n",
              "      <td>2020-01-30</td>\n",
              "      <td>1</td>\n",
              "      <td>1</td>\n",
              "      <td>0</td>\n",
              "      <td>0</td>\n",
              "      <td>0</td>\n",
              "      <td>0</td>\n",
              "    </tr>\n",
              "    <tr>\n",
              "      <th>1</th>\n",
              "      <td>2020-01-31</td>\n",
              "      <td>0</td>\n",
              "      <td>1</td>\n",
              "      <td>0</td>\n",
              "      <td>0</td>\n",
              "      <td>0</td>\n",
              "      <td>0</td>\n",
              "    </tr>\n",
              "  </tbody>\n",
              "</table>\n",
              "</div>"
            ],
            "text/plain": [
              "        Date  Daily Confirmed  ...  Daily Deceased  Total Deceased\n",
              "0 2020-01-30                1  ...               0               0\n",
              "1 2020-01-31                0  ...               0               0\n",
              "\n",
              "[2 rows x 7 columns]"
            ]
          },
          "metadata": {},
          "execution_count": 26
        }
      ]
    },
    {
      "cell_type": "code",
      "metadata": {
        "colab": {
          "base_uri": "https://localhost:8080/",
          "height": 213
        },
        "id": "2WxPuBZL8yr8",
        "outputId": "30744800-54bd-4733-cf01-ab4fb0a06b00"
      },
      "source": [
        "dbd_tc_param = pd.DataFrame(dbd_tc_india.groupby(['Date'])['Total Confirmed','Total Recovered', 'Total Deceased'].sum().reset_index())\n",
        "dbd_tc_param['Total Active Cases'] = dbd_tc_param['Total Confirmed'] - dbd_tc_param['Total Recovered'] - dbd_tc_param['Total Deceased']\n",
        "dbd_tc_param.head(3)"
      ],
      "execution_count": null,
      "outputs": [
        {
          "output_type": "stream",
          "name": "stderr",
          "text": [
            "/usr/local/lib/python3.7/dist-packages/ipykernel_launcher.py:1: FutureWarning:\n",
            "\n",
            "Indexing with multiple keys (implicitly converted to a tuple of keys) will be deprecated, use a list instead.\n",
            "\n"
          ]
        },
        {
          "output_type": "execute_result",
          "data": {
            "text/html": [
              "<div>\n",
              "<style scoped>\n",
              "    .dataframe tbody tr th:only-of-type {\n",
              "        vertical-align: middle;\n",
              "    }\n",
              "\n",
              "    .dataframe tbody tr th {\n",
              "        vertical-align: top;\n",
              "    }\n",
              "\n",
              "    .dataframe thead th {\n",
              "        text-align: right;\n",
              "    }\n",
              "</style>\n",
              "<table border=\"1\" class=\"dataframe\">\n",
              "  <thead>\n",
              "    <tr style=\"text-align: right;\">\n",
              "      <th></th>\n",
              "      <th>Date</th>\n",
              "      <th>Total Confirmed</th>\n",
              "      <th>Total Recovered</th>\n",
              "      <th>Total Deceased</th>\n",
              "      <th>Total Active Cases</th>\n",
              "    </tr>\n",
              "  </thead>\n",
              "  <tbody>\n",
              "    <tr>\n",
              "      <th>0</th>\n",
              "      <td>2020-01-30</td>\n",
              "      <td>1</td>\n",
              "      <td>0</td>\n",
              "      <td>0</td>\n",
              "      <td>1</td>\n",
              "    </tr>\n",
              "    <tr>\n",
              "      <th>1</th>\n",
              "      <td>2020-01-31</td>\n",
              "      <td>1</td>\n",
              "      <td>0</td>\n",
              "      <td>0</td>\n",
              "      <td>1</td>\n",
              "    </tr>\n",
              "    <tr>\n",
              "      <th>2</th>\n",
              "      <td>2020-02-01</td>\n",
              "      <td>1</td>\n",
              "      <td>0</td>\n",
              "      <td>0</td>\n",
              "      <td>1</td>\n",
              "    </tr>\n",
              "  </tbody>\n",
              "</table>\n",
              "</div>"
            ],
            "text/plain": [
              "        Date  Total Confirmed  ...  Total Deceased  Total Active Cases\n",
              "0 2020-01-30                1  ...               0                   1\n",
              "1 2020-01-31                1  ...               0                   1\n",
              "2 2020-02-01                1  ...               0                   1\n",
              "\n",
              "[3 rows x 5 columns]"
            ]
          },
          "metadata": {},
          "execution_count": 27
        }
      ]
    },
    {
      "cell_type": "code",
      "metadata": {
        "colab": {
          "base_uri": "https://localhost:8080/",
          "height": 112
        },
        "id": "LBboWOnV82r0",
        "outputId": "8e6bf3c5-09d4-4d46-a755-273812e9533d"
      },
      "source": [
        "dbd_tc_pl = dbd_tc_param[(dbd_tc_param['Date']>'2020-03-01') & (dbd_tc_param['Date']<'2020-03-25')].reset_index(drop=True) # considering pre lockdown period\n",
        "dbd_tc_pl.head(2)"
      ],
      "execution_count": null,
      "outputs": [
        {
          "output_type": "execute_result",
          "data": {
            "text/html": [
              "<div>\n",
              "<style scoped>\n",
              "    .dataframe tbody tr th:only-of-type {\n",
              "        vertical-align: middle;\n",
              "    }\n",
              "\n",
              "    .dataframe tbody tr th {\n",
              "        vertical-align: top;\n",
              "    }\n",
              "\n",
              "    .dataframe thead th {\n",
              "        text-align: right;\n",
              "    }\n",
              "</style>\n",
              "<table border=\"1\" class=\"dataframe\">\n",
              "  <thead>\n",
              "    <tr style=\"text-align: right;\">\n",
              "      <th></th>\n",
              "      <th>Date</th>\n",
              "      <th>Total Confirmed</th>\n",
              "      <th>Total Recovered</th>\n",
              "      <th>Total Deceased</th>\n",
              "      <th>Total Active Cases</th>\n",
              "    </tr>\n",
              "  </thead>\n",
              "  <tbody>\n",
              "    <tr>\n",
              "      <th>0</th>\n",
              "      <td>2020-03-02</td>\n",
              "      <td>5</td>\n",
              "      <td>3</td>\n",
              "      <td>0</td>\n",
              "      <td>2</td>\n",
              "    </tr>\n",
              "    <tr>\n",
              "      <th>1</th>\n",
              "      <td>2020-03-03</td>\n",
              "      <td>6</td>\n",
              "      <td>3</td>\n",
              "      <td>0</td>\n",
              "      <td>3</td>\n",
              "    </tr>\n",
              "  </tbody>\n",
              "</table>\n",
              "</div>"
            ],
            "text/plain": [
              "        Date  Total Confirmed  ...  Total Deceased  Total Active Cases\n",
              "0 2020-03-02                5  ...               0                   2\n",
              "1 2020-03-03                6  ...               0                   3\n",
              "\n",
              "[2 rows x 5 columns]"
            ]
          },
          "metadata": {},
          "execution_count": 28
        }
      ]
    },
    {
      "cell_type": "code",
      "metadata": {
        "colab": {
          "base_uri": "https://localhost:8080/",
          "height": 112
        },
        "id": "tnLImWmR85f0",
        "outputId": "a9ea1739-0788-4e5f-d962-6a76b1bf7807"
      },
      "source": [
        "dbd_tc_param = dbd_tc_param[dbd_tc_param['Date']>='2020-03-25'].reset_index(drop=True) # considering from lockdown date\n",
        "dbd_tc_param = dbd_tc_param[:-1]\n",
        "dbd_tc_param.head(2)"
      ],
      "execution_count": null,
      "outputs": [
        {
          "output_type": "execute_result",
          "data": {
            "text/html": [
              "<div>\n",
              "<style scoped>\n",
              "    .dataframe tbody tr th:only-of-type {\n",
              "        vertical-align: middle;\n",
              "    }\n",
              "\n",
              "    .dataframe tbody tr th {\n",
              "        vertical-align: top;\n",
              "    }\n",
              "\n",
              "    .dataframe thead th {\n",
              "        text-align: right;\n",
              "    }\n",
              "</style>\n",
              "<table border=\"1\" class=\"dataframe\">\n",
              "  <thead>\n",
              "    <tr style=\"text-align: right;\">\n",
              "      <th></th>\n",
              "      <th>Date</th>\n",
              "      <th>Total Confirmed</th>\n",
              "      <th>Total Recovered</th>\n",
              "      <th>Total Deceased</th>\n",
              "      <th>Total Active Cases</th>\n",
              "    </tr>\n",
              "  </thead>\n",
              "  <tbody>\n",
              "    <tr>\n",
              "      <th>0</th>\n",
              "      <td>2020-03-25</td>\n",
              "      <td>657</td>\n",
              "      <td>43</td>\n",
              "      <td>11</td>\n",
              "      <td>603</td>\n",
              "    </tr>\n",
              "    <tr>\n",
              "      <th>1</th>\n",
              "      <td>2020-03-26</td>\n",
              "      <td>730</td>\n",
              "      <td>50</td>\n",
              "      <td>16</td>\n",
              "      <td>664</td>\n",
              "    </tr>\n",
              "  </tbody>\n",
              "</table>\n",
              "</div>"
            ],
            "text/plain": [
              "        Date  Total Confirmed  ...  Total Deceased  Total Active Cases\n",
              "0 2020-03-25              657  ...              11                 603\n",
              "1 2020-03-26              730  ...              16                 664\n",
              "\n",
              "[2 rows x 5 columns]"
            ]
          },
          "metadata": {},
          "execution_count": 29
        }
      ]
    },
    {
      "cell_type": "code",
      "metadata": {
        "colab": {
          "base_uri": "https://localhost:8080/",
          "height": 112
        },
        "id": "rwC_PyEE88PU",
        "outputId": "444bc755-cf61-4a69-97ad-f86b8099f5ae"
      },
      "source": [
        "dbd_tc_param.tail(2)"
      ],
      "execution_count": null,
      "outputs": [
        {
          "output_type": "execute_result",
          "data": {
            "text/html": [
              "<div>\n",
              "<style scoped>\n",
              "    .dataframe tbody tr th:only-of-type {\n",
              "        vertical-align: middle;\n",
              "    }\n",
              "\n",
              "    .dataframe tbody tr th {\n",
              "        vertical-align: top;\n",
              "    }\n",
              "\n",
              "    .dataframe thead th {\n",
              "        text-align: right;\n",
              "    }\n",
              "</style>\n",
              "<table border=\"1\" class=\"dataframe\">\n",
              "  <thead>\n",
              "    <tr style=\"text-align: right;\">\n",
              "      <th></th>\n",
              "      <th>Date</th>\n",
              "      <th>Total Confirmed</th>\n",
              "      <th>Total Recovered</th>\n",
              "      <th>Total Deceased</th>\n",
              "      <th>Total Active Cases</th>\n",
              "    </tr>\n",
              "  </thead>\n",
              "  <tbody>\n",
              "    <tr>\n",
              "      <th>39</th>\n",
              "      <td>2020-05-03</td>\n",
              "      <td>42778</td>\n",
              "      <td>11763</td>\n",
              "      <td>1463</td>\n",
              "      <td>29552</td>\n",
              "    </tr>\n",
              "    <tr>\n",
              "      <th>40</th>\n",
              "      <td>2020-05-04</td>\n",
              "      <td>46434</td>\n",
              "      <td>12845</td>\n",
              "      <td>1566</td>\n",
              "      <td>32023</td>\n",
              "    </tr>\n",
              "  </tbody>\n",
              "</table>\n",
              "</div>"
            ],
            "text/plain": [
              "         Date  Total Confirmed  ...  Total Deceased  Total Active Cases\n",
              "39 2020-05-03            42778  ...            1463               29552\n",
              "40 2020-05-04            46434  ...            1566               32023\n",
              "\n",
              "[2 rows x 5 columns]"
            ]
          },
          "metadata": {},
          "execution_count": 30
        }
      ]
    },
    {
      "cell_type": "code",
      "metadata": {
        "id": "t8L2PjrC8_se"
      },
      "source": [
        "data = dbd_tc_pl.set_index('Date')['Total Active Cases']\n",
        "infected = dbd_tc_pl.set_index('Date')['Total Confirmed']\n",
        "recovered = dbd_tc_pl.set_index('Date')['Total Recovered']"
      ],
      "execution_count": null,
      "outputs": []
    },
    {
      "cell_type": "code",
      "metadata": {
        "id": "jJodWVeG9C-s"
      },
      "source": [
        "s_0 = 150000\n",
        "i_0 = 5\n",
        "r_0 = 3"
      ],
      "execution_count": null,
      "outputs": []
    },
    {
      "cell_type": "code",
      "metadata": {
        "id": "W8DdMCrv9GJU"
      },
      "source": [
        "def loss(point, data, recovered, s_0, i_0, r_0):\n",
        "    size = len(data)\n",
        "    beta, gamma = point\n",
        "    def SIR(t, y):\n",
        "        S = y[0]\n",
        "        I = y[1]\n",
        "        R = y[2]\n",
        "        return [-beta*S*I/s_0, beta*S*I/s_0-gamma*I, gamma*I]\n",
        "    solution = solve_ivp(SIR, [0, size], [s_0,i_0,r_0], t_eval=np.arange(0, size, 1), vectorized=True)\n",
        "    l1 = np.sqrt(np.mean((solution.y[1] - data)**2))\n",
        "    l2 = np.sqrt(np.mean((solution.y[2] - recovered)**2))\n",
        "    alpha = 0.1\n",
        "    return alpha * l1 + (1 - alpha) * l2"
      ],
      "execution_count": null,
      "outputs": []
    },
    {
      "cell_type": "code",
      "metadata": {
        "id": "NgM4_DOE9KS1"
      },
      "source": [
        "def predict(beta, gamma, data, recovered, s_0, i_0, r_0):\n",
        "    new_index = list(data.index.values)\n",
        "    size = len(new_index)\n",
        "    def SIR(t, y):\n",
        "        S = y[0]\n",
        "        I = y[1]\n",
        "        R = y[2]\n",
        "        return [-beta*S*I/s_0, beta*S*I/s_0-gamma*I, gamma*I]\n",
        "    extended_actual = np.concatenate((data.values, [None] * (size - len(data.values))))\n",
        "    extended_recovered = np.concatenate((recovered.values, [None] * (size - len(recovered.values))))\n",
        "    return new_index, extended_actual, extended_recovered, solve_ivp(SIR, [0, size], [s_0,i_0,r_0], t_eval=np.arange(0, size, 1))"
      ],
      "execution_count": null,
      "outputs": []
    },
    {
      "cell_type": "code",
      "metadata": {
        "id": "w2tX9XqG9Nol"
      },
      "source": [
        "def train(recovered, infected, data):\n",
        "    recovered = recovered\n",
        "    infected = infected\n",
        "    data = data\n",
        "\n",
        "    optimal = minimize(loss, [0.001, 0.001], args=(data, recovered, s_0, i_0, r_0), method='L-BFGS-B', bounds=[(0.00000001, 2), (0.00000001, 0.4)])\n",
        "    print(optimal)\n",
        "    beta, gamma = optimal.x\n",
        "    new_index, extended_actual, extended_recovered, prediction = predict(beta, gamma, data, recovered, s_0, i_0, r_0)\n",
        "    df = pd.DataFrame({'Actual Infected': extended_actual, 'Actual Recovered': extended_recovered, 'Susceptible': prediction.y[0], 'Predicted Infected': prediction.y[1], 'Predicted Recovered': prediction.y[2]}, index=new_index)\n",
        "    fig, ax = plt.subplots(figsize=(15, 10))\n",
        "    ax.set_title('Estimating Beta and Gamma for India during pre-lockdown')\n",
        "    df.plot(ax=ax)\n",
        "    print(f\"country=India, beta={beta:.8f}, gamma={gamma:.8f}, r_0:{(beta/gamma):.8f}\")"
      ],
      "execution_count": null,
      "outputs": []
    },
    {
      "cell_type": "code",
      "metadata": {
        "colab": {
          "base_uri": "https://localhost:8080/",
          "height": 804
        },
        "id": "Kn41AP5m9SNU",
        "outputId": "17b2f24b-18bb-40c6-fadd-76fc7cf91d71"
      },
      "source": [
        "train(recovered, infected, data)"
      ],
      "execution_count": null,
      "outputs": [
        {
          "output_type": "stream",
          "name": "stdout",
          "text": [
            "      fun: 4.688542388362681\n",
            " hess_inv: <2x2 LbfgsInvHessProduct with dtype=float64>\n",
            "      jac: array([0.00066755, 0.00070575])\n",
            "  message: b'CONVERGENCE: REL_REDUCTION_OF_F_<=_FACTR*EPSMCH'\n",
            "     nfev: 87\n",
            "      nit: 8\n",
            "   status: 0\n",
            "  success: True\n",
            "        x: array([0.22807272, 0.01422848])\n",
            "country=India, beta=0.22807272, gamma=0.01422848, r_0:16.02931195\n"
          ]
        },
        {
          "output_type": "display_data",
          "data": {
            "image/png": "[encoded data removed]",
            "text/plain": [
              "<Figure size 1080x720 with 1 Axes>"
            ]
          },
          "metadata": {
            "needs_background": "light"
          }
        }
      ]
    },
    {
      "cell_type": "code",
      "metadata": {
        "colab": {
          "base_uri": "https://localhost:8080/",
          "height": 112
        },
        "id": "WRRwt61p9Xs-",
        "outputId": "90938c25-a690-49ff-c8dc-08e9d6c66068"
      },
      "source": [
        "dbd_tc_param.head(2)"
      ],
      "execution_count": null,
      "outputs": [
        {
          "output_type": "execute_result",
          "data": {
            "text/html": [
              "<div>\n",
              "<style scoped>\n",
              "    .dataframe tbody tr th:only-of-type {\n",
              "        vertical-align: middle;\n",
              "    }\n",
              "\n",
              "    .dataframe tbody tr th {\n",
              "        vertical-align: top;\n",
              "    }\n",
              "\n",
              "    .dataframe thead th {\n",
              "        text-align: right;\n",
              "    }\n",
              "</style>\n",
              "<table border=\"1\" class=\"dataframe\">\n",
              "  <thead>\n",
              "    <tr style=\"text-align: right;\">\n",
              "      <th></th>\n",
              "      <th>Date</th>\n",
              "      <th>Total Confirmed</th>\n",
              "      <th>Total Recovered</th>\n",
              "      <th>Total Deceased</th>\n",
              "      <th>Total Active Cases</th>\n",
              "    </tr>\n",
              "  </thead>\n",
              "  <tbody>\n",
              "    <tr>\n",
              "      <th>0</th>\n",
              "      <td>2020-03-25</td>\n",
              "      <td>657</td>\n",
              "      <td>43</td>\n",
              "      <td>11</td>\n",
              "      <td>603</td>\n",
              "    </tr>\n",
              "    <tr>\n",
              "      <th>1</th>\n",
              "      <td>2020-03-26</td>\n",
              "      <td>730</td>\n",
              "      <td>50</td>\n",
              "      <td>16</td>\n",
              "      <td>664</td>\n",
              "    </tr>\n",
              "  </tbody>\n",
              "</table>\n",
              "</div>"
            ],
            "text/plain": [
              "        Date  Total Confirmed  ...  Total Deceased  Total Active Cases\n",
              "0 2020-03-25              657  ...              11                 603\n",
              "1 2020-03-26              730  ...              16                 664\n",
              "\n",
              "[2 rows x 5 columns]"
            ]
          },
          "metadata": {},
          "execution_count": 37
        }
      ]
    },
    {
      "cell_type": "code",
      "metadata": {
        "colab": {
          "base_uri": "https://localhost:8080/",
          "height": 112
        },
        "id": "tKqfG3589aVE",
        "outputId": "6e9c42e1-c29e-4ea1-c2b3-87721dcb08bf"
      },
      "source": [
        "dbd_tc_param.tail(2)\n"
      ],
      "execution_count": null,
      "outputs": [
        {
          "output_type": "execute_result",
          "data": {
            "text/html": [
              "<div>\n",
              "<style scoped>\n",
              "    .dataframe tbody tr th:only-of-type {\n",
              "        vertical-align: middle;\n",
              "    }\n",
              "\n",
              "    .dataframe tbody tr th {\n",
              "        vertical-align: top;\n",
              "    }\n",
              "\n",
              "    .dataframe thead th {\n",
              "        text-align: right;\n",
              "    }\n",
              "</style>\n",
              "<table border=\"1\" class=\"dataframe\">\n",
              "  <thead>\n",
              "    <tr style=\"text-align: right;\">\n",
              "      <th></th>\n",
              "      <th>Date</th>\n",
              "      <th>Total Confirmed</th>\n",
              "      <th>Total Recovered</th>\n",
              "      <th>Total Deceased</th>\n",
              "      <th>Total Active Cases</th>\n",
              "    </tr>\n",
              "  </thead>\n",
              "  <tbody>\n",
              "    <tr>\n",
              "      <th>39</th>\n",
              "      <td>2020-05-03</td>\n",
              "      <td>42778</td>\n",
              "      <td>11763</td>\n",
              "      <td>1463</td>\n",
              "      <td>29552</td>\n",
              "    </tr>\n",
              "    <tr>\n",
              "      <th>40</th>\n",
              "      <td>2020-05-04</td>\n",
              "      <td>46434</td>\n",
              "      <td>12845</td>\n",
              "      <td>1566</td>\n",
              "      <td>32023</td>\n",
              "    </tr>\n",
              "  </tbody>\n",
              "</table>\n",
              "</div>"
            ],
            "text/plain": [
              "         Date  Total Confirmed  ...  Total Deceased  Total Active Cases\n",
              "39 2020-05-03            42778  ...            1463               29552\n",
              "40 2020-05-04            46434  ...            1566               32023\n",
              "\n",
              "[2 rows x 5 columns]"
            ]
          },
          "metadata": {},
          "execution_count": 38
        }
      ]
    },
    {
      "cell_type": "code",
      "metadata": {
        "id": "bUDsfDqF9dXV"
      },
      "source": [
        "data = dbd_tc_param.set_index('Date')['Total Active Cases']\n",
        "infected = dbd_tc_param.set_index('Date')['Total Confirmed']\n",
        "recovered = dbd_tc_param.set_index('Date')['Total Recovered']"
      ],
      "execution_count": null,
      "outputs": []
    },
    {
      "cell_type": "code",
      "metadata": {
        "id": "Qj1oLA-Z9gZ2"
      },
      "source": [
        "s_0 = 750000 \n",
        "i_0 = 603\n",
        "r_0 = 43"
      ],
      "execution_count": null,
      "outputs": []
    },
    {
      "cell_type": "code",
      "metadata": {
        "id": "xXGNjVpe9jgt"
      },
      "source": [
        "def loss(point, data, recovered, s_0, i_0, r_0):\n",
        "    size = len(data)\n",
        "    beta, gamma = point\n",
        "    def SIR(t, y):\n",
        "        S = y[0]\n",
        "        I = y[1]\n",
        "        R = y[2]\n",
        "        return [-beta*S*I/s_0, beta*S*I/s_0-gamma*I, gamma*I]\n",
        "    solution = solve_ivp(SIR, [0, size], [s_0,i_0,r_0], t_eval=np.arange(0, size, 1), vectorized=True)\n",
        "    l1 = np.sqrt(np.mean((solution.y[1] - data)**2))\n",
        "    l2 = np.sqrt(np.mean((solution.y[2] - recovered)**2))\n",
        "    alpha = 0.1\n",
        "    return alpha * l1 + (1 - alpha) * l2"
      ],
      "execution_count": null,
      "outputs": []
    },
    {
      "cell_type": "code",
      "metadata": {
        "id": "YcdShYh59nw3"
      },
      "source": [
        "pres_fut = np.array(list(data.index.values)+ list((np.array(pd.date_range('2020-05-05', periods=90))))) #  months from 5th May"
      ],
      "execution_count": null,
      "outputs": []
    },
    {
      "cell_type": "code",
      "metadata": {
        "id": "Z960z3Iw9rxG"
      },
      "source": [
        "def predict(beta, gamma, data, recovered, s_0, i_0, r_0):\n",
        "    new_index = pres_fut\n",
        "    size = len(new_index)\n",
        "    def SIR(t, y):\n",
        "        S = y[0]\n",
        "        I = y[1]\n",
        "        R = y[2]\n",
        "        return [-beta*S*I/s_0, beta*S*I/s_0-gamma*I, gamma*I]\n",
        "    extended_actual = np.concatenate((data.values, [None] * (size - len(data.values))))\n",
        "    extended_recovered = np.concatenate((recovered.values, [None] * (size - len(recovered.values))))\n",
        "    return new_index, extended_actual, extended_recovered, solve_ivp(SIR, [0, size], [s_0,i_0,r_0], t_eval=np.arange(0, size, 1))"
      ],
      "execution_count": null,
      "outputs": []
    },
    {
      "cell_type": "code",
      "metadata": {
        "id": "REg17Li39ufV"
      },
      "source": [
        "def train(recovered, infected, data):\n",
        "    recovered = recovered\n",
        "    infected = infected\n",
        "    data = data\n",
        "\n",
        "    optimal = minimize(loss, [0.001, 0.001], args=(data, recovered, s_0, i_0, r_0), method='L-BFGS-B', bounds=[(0.000001, 0.5), (0.00000001, 0.4)])\n",
        "    print(optimal)\n",
        "    beta, gamma = optimal.x\n",
        "    new_index, extended_actual, extended_recovered, prediction = predict(beta, gamma, data, recovered, s_0, i_0, r_0)\n",
        "    df = pd.DataFrame({'Actual Infected': extended_actual, 'Actual Recovered': extended_recovered, 'Susceptible': prediction.y[0], 'Predicted Infected': prediction.y[1], 'Predicted Recovered': prediction.y[2]}, index=new_index)\n",
        "    fig, ax = plt.subplots(figsize=(15, 10))\n",
        "    ax.set_title('Possible COVID19 India Scenario next 3 months from 5th May, 2021')\n",
        "    df.plot(ax=ax)\n",
        "    print(f\"country=India, beta={beta:.8f}, gamma={gamma:.8f}, r_0:{(beta/gamma):.8f}\")"
      ],
      "execution_count": null,
      "outputs": []
    },
    {
      "cell_type": "markdown",
      "metadata": {
        "id": "jJofJnsmHk8i"
      },
      "source": [
        ""
      ]
    },
    {
      "cell_type": "code",
      "metadata": {
        "colab": {
          "base_uri": "https://localhost:8080/",
          "height": 792
        },
        "id": "U4wxLPos9zUn",
        "outputId": "ec6634d7-e0c1-4593-f227-3f165fd71daf"
      },
      "source": [
        "train(recovered, infected, data)"
      ],
      "execution_count": null,
      "outputs": [
        {
          "output_type": "stream",
          "name": "stdout",
          "text": [
            "      fun: 634.749610245253\n",
            " hess_inv: <2x2 LbfgsInvHessProduct with dtype=float64>\n",
            "      jac: array([ 0.07780727, -0.01716671])\n",
            "  message: b'CONVERGENCE: REL_REDUCTION_OF_F_<=_FACTR*EPSMCH'\n",
            "     nfev: 75\n",
            "      nit: 14\n",
            "   status: 0\n",
            "  success: True\n",
            "        x: array([0.14268499, 0.03824572])\n",
            "country=India, beta=0.14268499, gamma=0.03824572, r_0:3.73074401\n"
          ]
        },
        {
          "output_type": "display_data",
          "data": {
            "image/png": "[encoded data removed]",
            "text/plain": [
              "<Figure size 1080x720 with 1 Axes>"
            ]
          },
          "metadata": {
            "needs_background": "light"
          }
        }
      ]
    },
    {
      "cell_type": "code",
      "metadata": {
        "colab": {
          "base_uri": "https://localhost:8080/"
        },
        "id": "kr2GxZOpFRWr",
        "outputId": "e94b0693-3a63-4bc3-88c8-0ca910b3d6a9"
      },
      "source": [
        "d={}\n",
        "L=list(infected)\n",
        "for i in L:\n",
        "  print(\"Day\",L.index(i))\n",
        "  print(\"Total\",i)\n",
        "  print(\"Critical :\",i*(0.05))\n",
        "  print(\"Severe :\",i*(0.15))"
      ],
      "execution_count": null,
      "outputs": [
        {
          "output_type": "stream",
          "name": "stdout",
          "text": [
            "Day 0\n",
            "Total 657\n",
            "Critical : 32.85\n",
            "Severe : 98.55\n",
            "Day 1\n",
            "Total 730\n",
            "Critical : 36.5\n",
            "Severe : 109.5\n",
            "Day 2\n",
            "Total 883\n",
            "Critical : 44.150000000000006\n",
            "Severe : 132.45\n",
            "Day 3\n",
            "Total 1019\n",
            "Critical : 50.95\n",
            "Severe : 152.85\n",
            "Day 4\n",
            "Total 1139\n",
            "Critical : 56.95\n",
            "Severe : 170.85\n",
            "Day 5\n",
            "Total 1326\n",
            "Critical : 66.3\n",
            "Severe : 198.9\n",
            "Day 6\n",
            "Total 1635\n",
            "Critical : 81.75\n",
            "Severe : 245.25\n",
            "Day 7\n",
            "Total 2059\n",
            "Critical : 102.95\n",
            "Severe : 308.84999999999997\n",
            "Day 8\n",
            "Total 2545\n",
            "Critical : 127.25\n",
            "Severe : 381.75\n",
            "Day 9\n",
            "Total 3105\n",
            "Critical : 155.25\n",
            "Severe : 465.75\n",
            "Day 10\n",
            "Total 3684\n",
            "Critical : 184.20000000000002\n",
            "Severe : 552.6\n",
            "Day 11\n",
            "Total 4293\n",
            "Critical : 214.65\n",
            "Severe : 643.9499999999999\n",
            "Day 12\n",
            "Total 4777\n",
            "Critical : 238.85000000000002\n",
            "Severe : 716.55\n",
            "Day 13\n",
            "Total 5350\n",
            "Critical : 267.5\n",
            "Severe : 802.5\n",
            "Day 14\n",
            "Total 5915\n",
            "Critical : 295.75\n",
            "Severe : 887.25\n",
            "Day 15\n",
            "Total 6728\n",
            "Critical : 336.40000000000003\n",
            "Severe : 1009.1999999999999\n",
            "Day 16\n",
            "Total 7599\n",
            "Critical : 379.95000000000005\n",
            "Severe : 1139.85\n",
            "Day 17\n",
            "Total 8453\n",
            "Critical : 422.65000000000003\n",
            "Severe : 1267.95\n",
            "Day 18\n",
            "Total 9211\n",
            "Critical : 460.55\n",
            "Severe : 1381.6499999999999\n",
            "Day 19\n",
            "Total 10454\n",
            "Critical : 522.7\n",
            "Severe : 1568.1\n",
            "Day 20\n",
            "Total 11485\n",
            "Critical : 574.25\n",
            "Severe : 1722.75\n",
            "Day 21\n",
            "Total 12371\n",
            "Critical : 618.5500000000001\n",
            "Severe : 1855.6499999999999\n",
            "Day 22\n",
            "Total 13432\n",
            "Critical : 671.6\n",
            "Severe : 2014.8\n",
            "Day 23\n",
            "Total 14354\n",
            "Critical : 717.7\n",
            "Severe : 2153.1\n",
            "Day 24\n",
            "Total 15725\n",
            "Critical : 786.25\n",
            "Severe : 2358.75\n",
            "Day 25\n",
            "Total 17305\n",
            "Critical : 865.25\n",
            "Severe : 2595.75\n",
            "Day 26\n",
            "Total 18544\n",
            "Critical : 927.2\n",
            "Severe : 2781.6\n",
            "Day 27\n",
            "Total 20081\n",
            "Critical : 1004.0500000000001\n",
            "Severe : 3012.15\n",
            "Day 28\n",
            "Total 21373\n",
            "Critical : 1068.65\n",
            "Severe : 3205.95\n",
            "Day 29\n",
            "Total 23040\n",
            "Critical : 1152.0\n",
            "Severe : 3456.0\n",
            "Day 30\n",
            "Total 24448\n",
            "Critical : 1222.4\n",
            "Severe : 3667.2\n",
            "Day 31\n",
            "Total 26283\n",
            "Critical : 1314.15\n",
            "Severe : 3942.45\n",
            "Day 32\n",
            "Total 27890\n",
            "Critical : 1394.5\n",
            "Severe : 4183.5\n",
            "Day 33\n",
            "Total 29458\n",
            "Critical : 1472.9\n",
            "Severe : 4418.7\n",
            "Day 34\n",
            "Total 31360\n",
            "Critical : 1568.0\n",
            "Severe : 4704.0\n",
            "Day 35\n",
            "Total 33065\n",
            "Critical : 1653.25\n",
            "Severe : 4959.75\n",
            "Day 36\n",
            "Total 34866\n",
            "Critical : 1743.3000000000002\n",
            "Severe : 5229.9\n",
            "Day 37\n",
            "Total 37262\n",
            "Critical : 1863.1000000000001\n",
            "Severe : 5589.3\n",
            "Day 38\n",
            "Total 39826\n",
            "Critical : 1991.3000000000002\n",
            "Severe : 5973.9\n",
            "Day 39\n",
            "Total 42778\n",
            "Critical : 2138.9\n",
            "Severe : 6416.7\n",
            "Day 40\n",
            "Total 46434\n",
            "Critical : 2321.7000000000003\n",
            "Severe : 6965.099999999999\n"
          ]
        }
      ]
    },
    {
      "cell_type": "code",
      "metadata": {
        "colab": {
          "base_uri": "https://localhost:8080/"
        },
        "id": "rZu6m5gSFatP",
        "outputId": "5d4bc10d-6b07-4212-f3e2-72204a7f06b5"
      },
      "source": [
        "d={'Day':[],'Oxygen':[]}\n",
        "L=list(I)\n",
        "for i in L:\n",
        "  print(L.index(i))\n",
        "  d['Day'].append(\"Day\"+ str(L.index(i)))\n",
        "  d['Oxygen'].append(i*0.20*0.025)\n",
        "  print(\"Day\",np.where(I==i))\n",
        "  print(\"Oxygen Required :\", i*0.20*0.025*1000 , \"Litre\" )"
      ],
      "execution_count": null,
      "outputs": [
        {
          "output_type": "stream",
          "name": "stdout",
          "text": [
            "0\n",
            "Day (array([0]),)\n",
            "Oxygen Required : 510.0000000000001 Litre\n",
            "1\n",
            "Day (array([1]),)\n",
            "Oxygen Required : 5922.681525420442 Litre\n",
            "2\n",
            "Day (array([2]),)\n",
            "Oxygen Required : 68039.22951943899 Litre\n",
            "3\n",
            "Day (array([3]),)\n",
            "Oxygen Required : 695539.6541138269 Litre\n",
            "4\n",
            "Day (array([4]),)\n",
            "Oxygen Required : 3358147.5944144763 Litre\n",
            "5\n",
            "Day (array([5]),)\n",
            "Oxygen Required : 4941056.60985416 Litre\n",
            "6\n",
            "Day (array([6]),)\n",
            "Oxygen Required : 5031264.851566704 Litre\n",
            "7\n",
            "Day (array([7]),)\n",
            "Oxygen Required : 4907861.483420765 Litre\n",
            "8\n",
            "Day (array([8]),)\n",
            "Oxygen Required : 4767257.400125224 Litre\n",
            "9\n",
            "Day (array([9]),)\n",
            "Oxygen Required : 4628665.5339081455 Litre\n",
            "10\n",
            "Day (array([10]),)\n",
            "Oxygen Required : 4493888.33692453 Litre\n",
            "11\n",
            "Day (array([11]),)\n",
            "Oxygen Required : 4363011.260845674 Litre\n",
            "12\n",
            "Day (array([12]),)\n",
            "Oxygen Required : 4235942.829728759 Litre\n",
            "13\n",
            "Day (array([13]),)\n",
            "Oxygen Required : 4112574.7662361935 Litre\n",
            "14\n",
            "Day (array([14]),)\n",
            "Oxygen Required : 3992799.6366519267 Litre\n",
            "15\n",
            "Day (array([15]),)\n",
            "Oxygen Required : 3876512.8452136554 Litre\n",
            "16\n",
            "Day (array([16]),)\n",
            "Oxygen Required : 3763612.803583044 Litre\n",
            "17\n",
            "Day (array([17]),)\n",
            "Oxygen Required : 3654000.8766087466 Litre\n",
            "18\n",
            "Day (array([18]),)\n",
            "Oxygen Required : 3547581.3010005937 Litre\n",
            "19\n",
            "Day (array([19]),)\n",
            "Oxygen Required : 3444261.10571782 Litre\n",
            "20\n",
            "Day (array([20]),)\n",
            "Oxygen Required : 3343950.0213159067 Litre\n",
            "21\n",
            "Day (array([21]),)\n",
            "Oxygen Required : 3246560.4093646226 Litre\n",
            "22\n",
            "Day (array([22]),)\n",
            "Oxygen Required : 3152007.174779884 Litre\n",
            "23\n",
            "Day (array([23]),)\n",
            "Oxygen Required : 3060207.7231213944 Litre\n",
            "24\n",
            "Day (array([24]),)\n",
            "Oxygen Required : 2971081.8239429174 Litre\n",
            "25\n",
            "Day (array([25]),)\n",
            "Oxygen Required : 2884551.695719512 Litre\n",
            "26\n",
            "Day (array([26]),)\n",
            "Oxygen Required : 2800541.6594637646 Litre\n",
            "27\n",
            "Day (array([27]),)\n",
            "Oxygen Required : 2718978.344860894 Litre\n",
            "28\n",
            "Day (array([28]),)\n",
            "Oxygen Required : 2639790.4942024895 Litre\n",
            "29\n",
            "Day (array([29]),)\n",
            "Oxygen Required : 2562908.913652458 Litre\n"
          ]
        }
      ]
    },
    {
      "cell_type": "code",
      "metadata": {
        "id": "zufvzMLmFiz4"
      },
      "source": [
        "df = pd.DataFrame(d)"
      ],
      "execution_count": null,
      "outputs": []
    },
    {
      "cell_type": "code",
      "metadata": {
        "colab": {
          "base_uri": "https://localhost:8080/",
          "height": 549
        },
        "id": "ig9RPcg6FqtR",
        "outputId": "efe8e073-4c8e-472e-897f-e602d08ecad7"
      },
      "source": [
        "day = df['Day']\n",
        "oxygen = df['Oxygen']\n",
        "\n",
        "# Figure Size\n",
        "fig, ax = plt.subplots(figsize =(19, 9))\n",
        "\n",
        "# Horizontal Bar Plot\n",
        "ax.barh(day, oxygen)\n",
        "\n",
        "# Remove axes splines\n",
        "for s in ['top', 'bottom', 'left', 'right']:\n",
        "\tax.spines[s].set_visible(False)\n",
        "\n",
        "# Remove x, y Ticks\n",
        "ax.xaxis.set_ticks_position('none')\n",
        "ax.yaxis.set_ticks_position('none')\n",
        "\n",
        "# Add padding between axes and labels\n",
        "ax.xaxis.set_tick_params(pad = 5)\n",
        "ax.yaxis.set_tick_params(pad = 10)\n",
        "\n",
        "# Add x, y gridlines\n",
        "ax.grid(b = True, color ='grey',\n",
        "\t\tlinestyle ='-.', linewidth = 0.5,\n",
        "\t\talpha = 0.2)\n",
        "\n",
        "# Show top values\n",
        "ax.invert_yaxis()\n",
        "\n",
        "# Add annotation to bars\n",
        "for i in ax.patches:\n",
        "\tplt.text(i.get_width()+0.2, i.get_y()+0.5,\n",
        "\t\t\tstr(round((i.get_width()), 2)),\n",
        "\t\t\tfontsize = 10, fontweight ='bold',\n",
        "\t\t\tcolor ='grey')\n",
        "\n",
        "# Add Plot Title\n",
        "ax.set_title('Oxygen Requirment Vs Days',\n",
        "\t\t\tloc ='left', )\n",
        "\n",
        "# Add Text watermark\n",
        "fig.text(0.9, 0.15, 'CP2_E1', fontsize = 12,\n",
        "\t\tcolor ='grey', ha ='right', va ='bottom',\n",
        "\t\talpha = 0.7)\n",
        "\n",
        "# Show Plot\n",
        "plt.show()"
      ],
      "execution_count": null,
      "outputs": [
        {
          "output_type": "display_data",
          "data": {
            "image/png": "[encoded data removed]",
            "text/plain": [
              "<Figure size 1368x648 with 1 Axes>"
            ]
          },
          "metadata": {
            "needs_background": "light"
          }
        }
      ]
    },
    {
      "cell_type": "code",
      "metadata": {
        "id": "NrYUI0pMG_dl"
      },
      "source": [
        ""
      ],
      "execution_count": null,
      "outputs": []
    },
    {
      "cell_type": "markdown",
      "metadata": {
        "id": "RyGS3sxKHHlU"
      },
      "source": [
        ""
      ]
    },
    {
      "cell_type": "markdown",
      "metadata": {
        "id": "OHkhVGaLHAJR"
      },
      "source": [
        "**Beta and Gamma are estimated in the following way:**\n",
        "Validation data used is from 2nd Mar to 24th Mar (pre-lockdown period) and 25th Mar to 19th Apr (lockdown period)\n",
        "Forward prediction of 60 days have been done from 20th April considering parameter values derived during lockdown period\n",
        "Define y(t) for the SIR model, and then use RMSE as the loss function, and used L-BFGS-B gradient descent optimization to minimise the loss function\n",
        "add Codeadd Markdown\n",
        "Pre-Lockdown Period (2nd March-25th March)\n",
        "\n",
        "\n",
        "\n",
        "Assumptions taken:\n",
        "An initial population of 150000 could have been potentially exposed to COVID-19 as of 2nd March"
      ]
    }
  ]
}